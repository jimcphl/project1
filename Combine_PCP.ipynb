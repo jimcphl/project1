{
 "cells": [
  {
   "cell_type": "markdown",
   "metadata": {},
   "source": [
    "# Combine_pcp"
   ]
  },
  {
   "cell_type": "code",
   "execution_count": 20,
   "metadata": {},
   "outputs": [
    {
     "name": "stderr",
     "output_type": "stream",
     "text": [
      "C:\\Users\\tflung\\Anaconda3\\lib\\site-packages\\openpyxl\\worksheet\\_reader.py:300: UserWarning: Data Validation extension is not supported and will be removed\n",
      "  warn(msg)\n"
     ]
    },
    {
     "name": "stdout",
     "output_type": "stream",
     "text": [
      "2418\n"
     ]
    }
   ],
   "source": [
    "import pandas as pd\n",
    "import os\n",
    "\n",
    "# DualEligibleMembers.xlsx\n",
    "#pd.read_excel('DualEligibleMembers.xlsx', index_col=0)\n",
    "\n",
    "url = \"S:\\ENROLLMENT\\ENROLLMENT-PUBLIC\\MEDICARE\\MAPD\\MAPD&SNP Roster_2021.xlsx\"\n",
    "\n",
    "#url = \"C:\\\\Users\\\\tflung\\\\OneDrive\\\\Documents\\\\MAPD&SNP Roster_2021.xlsx\"\n",
    "\n",
    "#url = \"MAPD&SNP Roster_2021.xlsx\"\n",
    "\n",
    "df1=pd.read_excel(\n",
    "     os.path.join(url),\n",
    "     engine='openpyxl',\n",
    ")\n",
    "\n",
    "url1 = \"C:\\\\Users\\\\tflung\\\\Downloads\\\\Essen report 07.01.2021.xlsx\"\n",
    "\n",
    "df2=pd.read_excel(\n",
    "     os.path.join(url1),\n",
    "     engine='openpyxl',\n",
    "     sheet_name='PCP Info'\n",
    ")\n",
    "\n",
    "df2 = df2.rename(columns={'Member ID': 'CT ID'})\n",
    "\n",
    "\n",
    "#result = pd.merge(df1, df2, on=\"CT ID\")\n",
    "result = pd.merge(df2, df1, on=\"CT ID\", how=\"outer\")\n",
    "result.dropna(subset = [\"Member Name\"], inplace=True)\n",
    "\n",
    "result = result[['Member ID', 'Member Name', \n",
    "                 'Member Date of Birth', 'Plan LOB', \n",
    "                 'PCP NPI', 'PCP Name', \n",
    "                 'PCP Address Line 1', 'PCP Address Line 2', \n",
    "                 'PCPKey', 'Match', \n",
    "                 'LOB', 'Enrollment Date',\n",
    "                 'Disenrollment/End Date', 'Comments/Notes'\n",
    "                ]]\n",
    "\n",
    "print (len(result))\n",
    "\n"
   ]
  },
  {
   "cell_type": "code",
   "execution_count": 18,
   "metadata": {},
   "outputs": [],
   "source": [
    "# CT ID ~ Member ID"
   ]
  },
  {
   "cell_type": "code",
   "execution_count": 21,
   "metadata": {},
   "outputs": [],
   "source": [
    "# Export Excel file\n",
    "\n",
    "writer = pd.ExcelWriter('Combine_PCP.xlsx', date_format='YYYY-MM-DD',\n",
    "                  datetime_format='YYYY-MM-DD', engine='xlsxwriter')\n",
    "\n",
    "# Write each dataframe to a different worksheet.\n",
    "result.to_excel(writer, sheet_name='Combine_PCP', index=False)\n",
    "\n",
    "# Close the Pandas Excel writer and output the Excel file.\n",
    "writer.save()"
   ]
  },
  {
   "cell_type": "code",
   "execution_count": null,
   "metadata": {},
   "outputs": [],
   "source": []
  }
 ],
 "metadata": {
  "kernelspec": {
   "display_name": "Python 3",
   "language": "python",
   "name": "python3"
  },
  "language_info": {
   "codemirror_mode": {
    "name": "ipython",
    "version": 3
   },
   "file_extension": ".py",
   "mimetype": "text/x-python",
   "name": "python",
   "nbconvert_exporter": "python",
   "pygments_lexer": "ipython3",
   "version": "3.8.5"
  }
 },
 "nbformat": 4,
 "nbformat_minor": 4
}
