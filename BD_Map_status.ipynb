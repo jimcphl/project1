{
 "cells": [
  {
   "cell_type": "markdown",
   "id": "8736eee5",
   "metadata": {},
   "source": [
    "BD Map status\n",
    "\n",
    "- https://app.smartsheet.com/sheets/r3Wf7HmHGqfgmxq3XgGg46Gh7R34HfwHqQ4929W1?view=grid&filterId=6906122398394244\n"
   ]
  },
  {
   "cell_type": "code",
   "execution_count": 42,
   "id": "175505f7",
   "metadata": {},
   "outputs": [
    {
     "name": "stdout",
     "output_type": "stream",
     "text": [
      "     Primary Column      BD Sales Rep Name SOA Receipt  Date  \\\n",
      "0               NaN      Katiria Fernandez        2021-09-14   \n",
      "1               NaN       Yanery Fernandez        2021-09-01   \n",
      "2               NaN      Chouaib Coulibaly        2021-11-26   \n",
      "3               NaN      Chouaib Coulibaly        2021-11-26   \n",
      "4               NaN       Eugene Sheremeta        2021-11-26   \n",
      "..              ...                    ...               ...   \n",
      "163             NaN  Ivonne Cedeno Mendoza        2021-10-26   \n",
      "164             NaN      Chouaib Coulibaly        2021-11-01   \n",
      "165             NaN       Yanery Fernandez        2021-11-09   \n",
      "166             NaN  Ivonne Cedeno Mendoza        2021-11-17   \n",
      "167             NaN     Laura Lou Seefeldt        2021-11-17   \n",
      "\n",
      "         Prospect Name Language  Prospect/Member Card ID Medicaid ID  \\\n",
      "0      Carol Shoemaker      NaN                 132347.0    XS92890H   \n",
      "1      Phulmattee Khan  English                  59848.0    SR14541N   \n",
      "2        Angel Vicente      NaN                 319935.0    MU59788Y   \n",
      "3    Armando Velasquez      NaN                 319934.0    UW21520Q   \n",
      "4    Leonid Krivolapov      NaN                 319675.0    SH10639X   \n",
      "..                 ...      ...                      ...         ...   \n",
      "163    Rosalina Torres      NaN                  45050.0    TC00646T   \n",
      "164      Abdou Travare      NaN                  87572.0    PU28467D   \n",
      "165      Miriam Elamin      NaN                 125034.0    QD76867Q   \n",
      "166   Francisco Acosta      NaN                 319105.0    ST15750M   \n",
      "167    Mania Gendelman      NaN                  36703.0    XN99504W   \n",
      "\n",
      "            SOA Outcome Date Pushed by ENR for Scheduling  \\\n",
      "0                   NaN                        2021-09-15   \n",
      "1    Ready for Schedule                        2021-09-01   \n",
      "2                   NaN                        2021-11-29   \n",
      "3                   NaN                        2021-11-29   \n",
      "4              Rejected                               NaT   \n",
      "..                  ...                               ...   \n",
      "163                 NaN                        2021-10-26   \n",
      "164                 NaN                        2021-11-02   \n",
      "165                 NaN                        2021-11-09   \n",
      "166                 NaN                        2021-11-17   \n",
      "167                 NaN                        2021-11-17   \n",
      "\n",
      "    Dept. Scheduling Case Projected ENR Effective Date  \\\n",
      "0        Care Coordinator          2021-11-01 00:00:00   \n",
      "1        Care Coordinator          2021-11-01 00:00:00   \n",
      "2                  Intake          2022-01-01 00:00:00   \n",
      "3                  Intake          2022-01-01 00:00:00   \n",
      "4                  Intake          2022-01-01 00:00:00   \n",
      "..                    ...                          ...   \n",
      "163      Care Coordinator          2022-01-01 00:00:00   \n",
      "164      Care Coordinator          2022-01-01 00:00:00   \n",
      "165      Care Coordinator          2022-01-01 00:00:00   \n",
      "166                Intake          2022-01-01 00:00:00   \n",
      "167      Care Coordinator          2022-01-01 00:00:00   \n",
      "\n",
      "                                       BD Rep Comments  \\\n",
      "0                                                  NaN   \n",
      "1                                                  NaN   \n",
      "2                                                  NaN   \n",
      "3                                                  NaN   \n",
      "4                                                  NaN   \n",
      "..                                                 ...   \n",
      "163                                                NaN   \n",
      "164                                                NaN   \n",
      "165                                                NaN   \n",
      "166                                                NaN   \n",
      "167  withdrew interest due to bad feedback from pcp...   \n",
      "\n",
      "       UAS Scheduling Status                      Attempt Count  \\\n",
      "0                  Scheduled                                NaN   \n",
      "1                  Scheduled                                NaN   \n",
      "2    BD Rep follow up needed                        1st Attempt   \n",
      "3                  Scheduled                        2nd Attempt   \n",
      "4                        NaN                                NaN   \n",
      "..                       ...                                ...   \n",
      "163                Scheduled                        2nd Attempt   \n",
      "164                Scheduled                        1st Attempt   \n",
      "165                Scheduled                        1st Attempt   \n",
      "166                Scheduled                        2nd Attempt   \n",
      "167                No answer  3rd Attempt (escalated to SR/Ret)   \n",
      "\n",
      "    UAS Date Scheduled         Intake/Retention/Care Coordinator Comments  \\\n",
      "0           2021-09-27                                                NaN   \n",
      "1           2021-10-07                                                NaN   \n",
      "2                  NaT  Lacier: 11/30 Spoke with the prospect, verifie...   \n",
      "3                  NaT  Called prospect, HIPPA verified. Trying to sch...   \n",
      "4                  NaT                                                NaN   \n",
      "..                 ...                                                ...   \n",
      "163         2021-12-02                                                NaN   \n",
      "164         2021-11-24                           Transfer call successful   \n",
      "165         2021-11-24                           Transfer call successful   \n",
      "166         2021-11-26  11/24 Spoke with prospect, scheduled nurse ass...   \n",
      "167                NaT                                                NaN   \n",
      "\n",
      "      FA/RN UAS Outcome Ready for MAP Application App follow up Status  \\\n",
      "0          Accepted POC                       Yes            Withdrawn   \n",
      "1          Accepted POC                       Yes            Submitted   \n",
      "2                   NaN                        No                  NaN   \n",
      "3                   NaN                        No                  NaN   \n",
      "4                   NaN                        No                  NaN   \n",
      "..                  ...                       ...                  ...   \n",
      "163                 NaN                        No                  NaN   \n",
      "164        Accepted POC                       Yes                  NaN   \n",
      "165        Accepted POC                       Yes                  NaN   \n",
      "166  Did not accept POC                        No                  NaN   \n",
      "167  Did not accept POC                        No            Withdrawn   \n",
      "\n",
      "    App submitted Date  \n",
      "0                  NaT  \n",
      "1           2021-10-27  \n",
      "2                  NaT  \n",
      "3                  NaT  \n",
      "4                  NaT  \n",
      "..                 ...  \n",
      "163                NaT  \n",
      "164                NaT  \n",
      "165                NaT  \n",
      "166                NaT  \n",
      "167                NaT  \n",
      "\n",
      "[168 rows x 20 columns]\n"
     ]
    },
    {
     "name": "stderr",
     "output_type": "stream",
     "text": [
      "C:\\Users\\tflung\\Anaconda3\\lib\\site-packages\\openpyxl\\styles\\stylesheet.py:226: UserWarning: Workbook contains no default style, apply openpyxl's default\n",
      "  warn(\"Workbook contains no default style, apply openpyxl's default\")\n"
     ]
    }
   ],
   "source": [
    "import pandas as pd\n",
    "import os\n",
    "\n",
    "# BD MAP Cases Tracker\n",
    "\n",
    "url = 'C:/Users/tflung/Downloads/BD MAP Cases Tracker.xlsx'\n",
    "\n",
    "\n",
    "df1=pd.read_excel(\n",
    "     os.path.join(url),\n",
    "     engine='openpyxl',\n",
    ")\n",
    "\n",
    "df1['SOA Receipt  Date'] = pd.to_datetime(df1['SOA Receipt  Date'], errors = 'coerce')\n",
    "\n",
    "print (df1)"
   ]
  },
  {
   "cell_type": "code",
   "execution_count": 43,
   "id": "f293eff2",
   "metadata": {},
   "outputs": [],
   "source": [
    "import sqlite3\n",
    "conn = sqlite3.connect('test_database')\n",
    "\n",
    "from sqlalchemy import create_engine\n",
    "engine = create_engine('sqlite://', echo=False)"
   ]
  },
  {
   "cell_type": "code",
   "execution_count": 44,
   "id": "28d6f93c",
   "metadata": {},
   "outputs": [
    {
     "name": "stdout",
     "output_type": "stream",
     "text": [
      "('Computer', 900)\n",
      "('Tablet', 300)\n",
      "('Monitor', 450)\n",
      "('Printer', 150)\n"
     ]
    }
   ],
   "source": [
    "import pandas as pd\n",
    "import sqlite3\n",
    "\n",
    "conn = sqlite3.connect('test_database')\n",
    "c = conn.cursor()\n",
    "\n",
    "c.execute('CREATE TABLE IF NOT EXISTS products (product_name text, price number)')\n",
    "conn.commit()\n",
    "\n",
    "data = {'product_name': ['Computer','Tablet','Monitor','Printer'],\n",
    "        'price': [900,300,450,150]\n",
    "        }\n",
    "\n",
    "df = pd.DataFrame(data, columns= ['product_name','price'])\n",
    "df.to_sql('products', conn, if_exists='replace', index = False)\n",
    " \n",
    "c.execute('''  \n",
    "SELECT * FROM products\n",
    "          ''')\n",
    "\n",
    "for row in c.fetchall():\n",
    "    print (row)"
   ]
  },
  {
   "cell_type": "code",
   "execution_count": 49,
   "id": "283a8116",
   "metadata": {},
   "outputs": [
    {
     "name": "stdout",
     "output_type": "stream",
     "text": [
      "Index(['Primary Column', 'BD Sales Rep Name', 'SOA Receipt  Date',\n",
      "       'Prospect Name', 'Language', 'Prospect/Member Card ID', 'Medicaid ID',\n",
      "       'SOA Outcome', 'Date Pushed by ENR for Scheduling',\n",
      "       'Dept. Scheduling Case', 'Projected ENR Effective Date',\n",
      "       'BD Rep Comments', 'UAS Scheduling Status', 'Attempt Count',\n",
      "       'UAS Date Scheduled', 'Intake/Retention/Care Coordinator Comments',\n",
      "       'FA/RN UAS Outcome', 'Ready for MAP Application',\n",
      "       'App follow up Status', 'App submitted Date'],\n",
      "      dtype='object')\n",
      "[nan 'Ready for Schedule' 'Rejected' 'Not Interested']\n"
     ]
    }
   ],
   "source": [
    "print (df1.columns)\n",
    "\n",
    "print (df1['SOA Outcome'].unique())"
   ]
  },
  {
   "cell_type": "code",
   "execution_count": 54,
   "id": "d9b60cb1",
   "metadata": {},
   "outputs": [
    {
     "name": "stdout",
     "output_type": "stream",
     "text": [
      "160\n",
      "23\n",
      "137\n",
      "72\n",
      "62\n",
      "36\n"
     ]
    }
   ],
   "source": [
    "df2 = df1[(df1['SOA Receipt  Date'] >= '2021-10-15') & (df1['SOA Receipt  Date'] <= '2021-12-07') | (df1['SOA Receipt  Date'] == '2011-11-02')]\n",
    "print (len(df2))\n",
    "\n",
    "df6 = df2[(df2['SOA Outcome'].notna()) & (df2['SOA Outcome'] != 'Ready for Schedule')]\n",
    "print (len(df6))\n",
    "\n",
    "print (len(df2)-len(df6))\n",
    "\n",
    "df3 = df2[(df2['UAS Scheduling Status'] != 'Scheduled')]\n",
    "print (len(df3))\n",
    "\n",
    "df4 = df3[df3['Attempt Count'].notna()]\n",
    "\n",
    "#print (df4)\n",
    "print (len(df4))\n",
    "\n",
    "df5 = df1[(df1['Ready for MAP Application'] == 'Yes')]\n",
    "print (len(df5))"
   ]
  },
  {
   "cell_type": "code",
   "execution_count": null,
   "id": "7fdf4ca2",
   "metadata": {},
   "outputs": [],
   "source": []
  },
  {
   "cell_type": "code",
   "execution_count": null,
   "id": "320396cf",
   "metadata": {},
   "outputs": [],
   "source": []
  }
 ],
 "metadata": {
  "kernelspec": {
   "display_name": "Python 3 (ipykernel)",
   "language": "python",
   "name": "python3"
  },
  "language_info": {
   "codemirror_mode": {
    "name": "ipython",
    "version": 3
   },
   "file_extension": ".py",
   "mimetype": "text/x-python",
   "name": "python",
   "nbconvert_exporter": "python",
   "pygments_lexer": "ipython3",
   "version": "3.8.5"
  }
 },
 "nbformat": 4,
 "nbformat_minor": 5
}
