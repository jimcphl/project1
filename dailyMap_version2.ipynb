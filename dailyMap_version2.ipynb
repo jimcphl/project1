{
 "cells": [
  {
   "cell_type": "markdown",
   "metadata": {},
   "source": [
    "# Daily Map calculation -  2"
   ]
  },
  {
   "cell_type": "code",
   "execution_count": 1,
   "metadata": {},
   "outputs": [
    {
     "ename": "SyntaxError",
     "evalue": "(unicode error) 'unicodeescape' codec can't decode bytes in position 2-3: truncated \\UXXXXXXXX escape (<ipython-input-1-85914660d0d6>, line 11)",
     "output_type": "error",
     "traceback": [
      "\u001b[1;36m  File \u001b[1;32m\"<ipython-input-1-85914660d0d6>\"\u001b[1;36m, line \u001b[1;32m11\u001b[0m\n\u001b[1;33m    url = \"C:\\Users\\tflung\\Downloads\\Disenrollment  Survey (1).xlsx\"\u001b[0m\n\u001b[1;37m          ^\u001b[0m\n\u001b[1;31mSyntaxError\u001b[0m\u001b[1;31m:\u001b[0m (unicode error) 'unicodeescape' codec can't decode bytes in position 2-3: truncated \\UXXXXXXXX escape\n"
     ]
    }
   ],
   "source": [
    "# S:\\ENROLLMENT\\ENROLLMENT-PUBLIC\\MEDICARE\\MAP\n",
    "# MAP Roster_2021\n",
    "\n",
    "\n",
    "import pandas as pd\n",
    "import os\n",
    "\n",
    "# DualEligibleMembers.xlsx\n",
    "#pd.read_excel('DualEligibleMembers.xlsx', index_col=0)\n",
    "\n",
    "url = \"S:\\ENROLLMENT\\ENROLLMENT-PUBLIC\\MEDICARE\\MAP\\MAP Roster_2021.xlsx\"\n",
    "\n",
    "df11=pd.read_excel(\n",
    "     os.path.join(url),\n",
    "     engine='openpyxl',\n",
    "     sheet_name='Enrolled'\n",
    ")\n",
    "\n",
    "\n",
    "#print (list(df1.columns))\n",
    "\n",
    "#df11.head()\n",
    "\n",
    "\n",
    "# MAPD roaster\n",
    "\n",
    "url1 = \"S:\\ENROLLMENT\\ENROLLMENT-PUBLIC\\MEDICARE\\MAPD\\MAPD&SNP Roster_2021 - Copy 2.11.2021.xlsx\"\n",
    "\n",
    "#url = \"MAPD&SNP Roster_2021.xlsx\"\n",
    "\n",
    "df2=pd.read_excel(\n",
    "     os.path.join(url1),\n",
    "     engine='openpyxl',\n",
    ")\n",
    "\n",
    "# rename\n",
    "\n",
    "df2 = df2.rename(columns={'Member ID': 'MID'})\n",
    "\n",
    "#df2.head()"
   ]
  },
  {
   "cell_type": "code",
   "execution_count": 8,
   "metadata": {},
   "outputs": [
    {
     "name": "stdout",
     "output_type": "stream",
     "text": [
      "ID            46\n",
      "EnrollDate    46\n",
      "LOB           46\n",
      "Status        46\n",
      "SOA           42\n",
      "AppDate       46\n",
      "Rep           46\n",
      "type          46\n",
      "dtype: int64\n"
     ]
    }
   ],
   "source": [
    "# Rename\n",
    "df1 = df11.rename(columns={'Overall Start Date': 'EnrollDate'})\n",
    "df1 = df1.rename(columns={'Sales Agent': 'Rep'})\n",
    "df1 = df1.rename(columns={'Referral/SOA Date': 'SOA'})\n",
    "df1 = df1.rename(columns={'Application Date': 'AppDate'})\n",
    "df1 = df1.rename(columns={'Overall Status': 'Status'})\n",
    "df1 = df1.rename(columns={'Legacy ID': 'ID'})\n",
    "\n",
    "# select columns\n",
    "df1 = df1[['ID', 'EnrollDate', 'LOB', 'Status', 'SOA', 'AppDate', 'Rep']]\n",
    "\n",
    "# Jan Feb enrollment\n",
    "df1 = df1[(df1['EnrollDate'] == '2021-01-01') | (df1['EnrollDate'] == '2021-02-01')]\n",
    "#SOA\n",
    "#df1 = df1[(df1['SOA'] >= '2020-11-01') & (df1['SOA'] <= '2020-12-31')]\n",
    "\n",
    "# Jan\n",
    "#df1 = df1[(df1['EnrollDate'] == '2021-01-01')]\n",
    "# Feb\n",
    "#df1 = df1[(df1['EnrollDate'] == '2021-02-01')]\n",
    "# March\n",
    "#df1 = df1[(df1['EnrollDate'] == '2021-03-01')]\n",
    "\n",
    "\n",
    "\n",
    "# Whole Team - Enrolled\n",
    "\n",
    "df1 = df1[(df1['Rep'] == 'Yanery Fernandez') \n",
    "          | (df1['Rep'] == 'Ivonne Cedeno Mendoza (BD)')\n",
    "          | (df1['Rep'] == 'James (Shiou-Hao) Lu')\n",
    "          | (df1['Rep'] == 'Monalisa Crossway')\n",
    "          | (df1['Rep'] == 'Laura Lou Seefeldt (BD)')\n",
    "          | (df1['Rep'] == 'Griselle Leonardo (BD)')\n",
    "          | (df1['Rep'] == 'Shelly Bobb (BD)')\n",
    "          | (df1['Rep'] == 'Zhen Zhu')\n",
    "          | (df1['Rep'] == 'Confessor Concepcion')\n",
    "          | (df1['Rep'] == 'Keith Douglas')\n",
    "          | (df1['Rep'] == 'Angela Hernandez')\n",
    "          | (df1['Rep'] == 'Carolina Zuluaga (BD)') \n",
    "          | (df1['Rep'] == 'Katiria Fernandez (BD)')\n",
    "          | (df1['Rep'] == 'Brad Willinger (BD)')\n",
    "          | (df1['Rep'] == 'Vincent Lee (BD)')\n",
    "          | (df1['Rep'] == 'Robert Echevarria ')]\n",
    "\n",
    "\n",
    "# create a list of our conditions\n",
    "import numpy as np\n",
    "\n",
    "conditions = [(df1['Rep'] == 'Yanery Fernandez') \n",
    "          | (df1['Rep'] == 'Ivonne Cedeno Mendoza (BD)')\n",
    "          | (df1['Rep'] == 'James (Shiou-Hao) Lu')\n",
    "          | (df1['Rep'] == 'Monalisa Crossway')\n",
    "          | (df1['Rep'] == 'Laura Lou Seefeldt (BD)')\n",
    "          | (df1['Rep'] == 'Griselle Leonardo (BD)')\n",
    "          | (df1['Rep'] == 'Shelly Bobb (BD)')\n",
    "          | (df1['Rep'] == 'Zhen Zhu')\n",
    "          | (df1['Rep'] == 'Confessor Concepcion')\n",
    "          | (df1['Rep'] == 'Keith Douglas')\n",
    "          | (df1['Rep'] == 'Angela Hernandez') ,\n",
    "            (df1['Rep'] == 'Carolina Zuluaga (BD)') \n",
    "          | (df1['Rep'] == 'Katiria Fernandez (BD)')\n",
    "          | (df1['Rep'] == 'Brad Willinger (BD)')\n",
    "          | (df1['Rep'] == 'Vincent Lee (BD)')\n",
    "          | (df1['Rep'] == 'Robert Echevarria ')]\n",
    "\n",
    "# create a list of the values we want to assign for each condition\n",
    "values = ['FieldSales', 'TeleSales']\n",
    "\n",
    "# create a new column and use np.select to assign values to it using our lists as arguments\n",
    "df1['type'] = np.select(conditions, values)\n",
    "\n",
    "\n",
    "print (df1.count())\n"
   ]
  },
  {
   "cell_type": "code",
   "execution_count": 9,
   "metadata": {},
   "outputs": [],
   "source": [
    "#df1.head()"
   ]
  },
  {
   "cell_type": "code",
   "execution_count": 10,
   "metadata": {},
   "outputs": [
    {
     "name": "stdout",
     "output_type": "stream",
     "text": [
      "[134401.0, 114181.0, 126471.0, 117128.0, 91911.0, 119562.0, 98827.0, 126346.0, 93711.0, 133395.0, 15013.0, 97445.0, 110119.0, 116273.0, 103614.0, 66110.0, 113855.0, 130115.0, 109254.0, 21451.0, 1232.0, 115411.0, 139735.0, 116441.0, 37468.0, 49246.0, 127208.0, 82153.0, 42476.0, 134126.0, 108527.0, 3705.0, 69372.0]\n",
      "ID            34\n",
      "EnrollDate    34\n",
      "LOB           34\n",
      "Status        34\n",
      "SOA           31\n",
      "AppDate       34\n",
      "Rep           34\n",
      "type          34\n",
      "dtype: int64\n"
     ]
    }
   ],
   "source": [
    "# Same ID\n",
    "\n",
    "same = list(set(df1['ID']).intersection(set(df2['MID'])))\n",
    "print(same)\n",
    "#print(len(same))\n",
    "\n",
    "# Count Same ID\n",
    "\n",
    "df3 = df1[df1['ID'].isin(same)]\n",
    "\n",
    "print(df3.count())\n",
    "#print (df3)"
   ]
  },
  {
   "cell_type": "code",
   "execution_count": 11,
   "metadata": {},
   "outputs": [
    {
     "name": "stdout",
     "output_type": "stream",
     "text": [
      "ID            12\n",
      "EnrollDate    12\n",
      "LOB           12\n",
      "Status        12\n",
      "SOA           11\n",
      "AppDate       12\n",
      "Rep           12\n",
      "type          12\n",
      "dtype: int64\n",
      "           ID EnrollDate  LOB    Status        SOA    AppDate  \\\n",
      "120  138380.0 2021-01-01  MAP  Enrolled 2020-10-06 2020-12-04   \n",
      "172  127927.0 2021-02-01  MAP  Enrolled 2020-12-22 2021-01-14   \n",
      "175  134937.0 2021-02-01  MAP  Enrolled 2020-11-19 2021-01-05   \n",
      "183   70146.0 2021-02-01  MAP  Enrolled 2020-11-25 2021-01-06   \n",
      "207  116544.0 2021-02-01  MAP  Enrolled 2020-12-06 2021-01-07   \n",
      "209  141260.0 2021-02-01  MAP  Enrolled 2020-11-14 2021-01-05   \n",
      "216   85676.0 2021-02-01  MAP  Enrolled 2020-11-25 2021-01-07   \n",
      "220  137358.0 2021-02-01  MAP  Enrolled 2020-12-12 2020-01-11   \n",
      "223  111357.0 2021-02-01  MAP  Enrolled 2020-11-29 2021-01-07   \n",
      "241  139849.0 2021-02-01  MAP  Enrolled 2020-10-28 2021-01-19   \n",
      "268  128548.0 2021-02-01  MAP  Enrolled        NaT 2021-01-25   \n",
      "276  140574.0 2021-02-01  MAP  Enrolled 2020-11-13 2021-01-28   \n",
      "\n",
      "                         Rep        type  \n",
      "120      Brad Willinger (BD)   TeleSales  \n",
      "172   Katiria Fernandez (BD)   TeleSales  \n",
      "175   Katiria Fernandez (BD)   TeleSales  \n",
      "183    Carolina Zuluaga (BD)   TeleSales  \n",
      "207   Griselle Leonardo (BD)  FieldSales  \n",
      "209    Carolina Zuluaga (BD)   TeleSales  \n",
      "216   Katiria Fernandez (BD)   TeleSales  \n",
      "220   Griselle Leonardo (BD)  FieldSales  \n",
      "223   Katiria Fernandez (BD)   TeleSales  \n",
      "241  Laura Lou Seefeldt (BD)  FieldSales  \n",
      "268   Katiria Fernandez (BD)   TeleSales  \n",
      "276   Katiria Fernandez (BD)   TeleSales  \n"
     ]
    }
   ],
   "source": [
    "df4 = df1[~df1['ID'].isin(same)]\n",
    "\n",
    "print(df4.count())\n",
    "print(df4)\n",
    "\n"
   ]
  },
  {
   "cell_type": "code",
   "execution_count": 12,
   "metadata": {},
   "outputs": [
    {
     "data": {
      "text/html": [
       "<div>\n",
       "<style scoped>\n",
       "    .dataframe tbody tr th:only-of-type {\n",
       "        vertical-align: middle;\n",
       "    }\n",
       "\n",
       "    .dataframe tbody tr th {\n",
       "        vertical-align: top;\n",
       "    }\n",
       "\n",
       "    .dataframe thead tr th {\n",
       "        text-align: left;\n",
       "    }\n",
       "\n",
       "    .dataframe thead tr:last-of-type th {\n",
       "        text-align: right;\n",
       "    }\n",
       "</style>\n",
       "<table border=\"1\" class=\"dataframe\">\n",
       "  <thead>\n",
       "    <tr>\n",
       "      <th></th>\n",
       "      <th></th>\n",
       "      <th>count</th>\n",
       "    </tr>\n",
       "    <tr>\n",
       "      <th></th>\n",
       "      <th>LOB</th>\n",
       "      <th>MAP</th>\n",
       "    </tr>\n",
       "    <tr>\n",
       "      <th>Rep</th>\n",
       "      <th>type</th>\n",
       "      <th></th>\n",
       "    </tr>\n",
       "  </thead>\n",
       "  <tbody>\n",
       "    <tr>\n",
       "      <th>Brad Willinger (BD)</th>\n",
       "      <th>TeleSales</th>\n",
       "      <td>1</td>\n",
       "    </tr>\n",
       "    <tr>\n",
       "      <th>Carolina Zuluaga (BD)</th>\n",
       "      <th>TeleSales</th>\n",
       "      <td>2</td>\n",
       "    </tr>\n",
       "    <tr>\n",
       "      <th>Griselle Leonardo (BD)</th>\n",
       "      <th>FieldSales</th>\n",
       "      <td>2</td>\n",
       "    </tr>\n",
       "    <tr>\n",
       "      <th>Katiria Fernandez (BD)</th>\n",
       "      <th>TeleSales</th>\n",
       "      <td>6</td>\n",
       "    </tr>\n",
       "    <tr>\n",
       "      <th>Laura Lou Seefeldt (BD)</th>\n",
       "      <th>FieldSales</th>\n",
       "      <td>1</td>\n",
       "    </tr>\n",
       "  </tbody>\n",
       "</table>\n",
       "</div>"
      ],
      "text/plain": [
       "                                   count\n",
       "LOB                                  MAP\n",
       "Rep                     type            \n",
       "Brad Willinger (BD)     TeleSales      1\n",
       "Carolina Zuluaga (BD)   TeleSales      2\n",
       "Griselle Leonardo (BD)  FieldSales     2\n",
       "Katiria Fernandez (BD)  TeleSales      6\n",
       "Laura Lou Seefeldt (BD) FieldSales     1"
      ]
     },
     "execution_count": 12,
     "metadata": {},
     "output_type": "execute_result"
    }
   ],
   "source": [
    "df5 = df4.groupby([\"EnrollDate\", \"LOB\", \"type\", \"Rep\"])[\"Rep\"].count().reset_index(name=\"count\")\n",
    "df6 = pd.pivot_table(df5, index=['Rep', 'type'], columns=['LOB'], values=['count'], aggfunc='first')\n",
    "\n",
    "df6"
   ]
  },
  {
   "cell_type": "code",
   "execution_count": 8,
   "metadata": {},
   "outputs": [],
   "source": [
    "df4.to_excel(r'enrolled_AEP_revised.xlsx', index = False)\n"
   ]
  },
  {
   "cell_type": "code",
   "execution_count": 9,
   "metadata": {},
   "outputs": [],
   "source": [
    "df5.to_excel(r'enrolled_AEP_revised_Count.xlsx', index = False)"
   ]
  },
  {
   "cell_type": "code",
   "execution_count": null,
   "metadata": {},
   "outputs": [],
   "source": []
  }
 ],
 "metadata": {
  "kernelspec": {
   "display_name": "Python 3",
   "language": "python",
   "name": "python3"
  },
  "language_info": {
   "codemirror_mode": {
    "name": "ipython",
    "version": 3
   },
   "file_extension": ".py",
   "mimetype": "text/x-python",
   "name": "python",
   "nbconvert_exporter": "python",
   "pygments_lexer": "ipython3",
   "version": "3.8.7"
  }
 },
 "nbformat": 4,
 "nbformat_minor": 4
}
