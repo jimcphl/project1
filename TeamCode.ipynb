{
 "cells": [
  {
   "cell_type": "markdown",
   "metadata": {},
   "source": [
    "# Weekly CM Report\n",
    "\n",
    "\n",
    "## Team Code\n",
    "\n",
    "\n",
    "- https://jamesrledoux.com/code/group-by-aggregate-pandas\n",
    "\n",
    "- https://jakevdp.github.io/PythonDataScienceHandbook/03.08-aggregation-and-grouping.html\n",
    "\n",
    "- https://pandas.pydata.org/pandas-docs/dev/user_guide/merging.html\n",
    "\n",
    "- https://pandas.pydata.org/pandas-docs/stable/reference/api/pandas.DataFrame.unstack.html\n",
    "\n",
    "- https://www.w3schools.com/python/python_datetime.asp\n",
    "\n",
    "- https://www.w3resource.com/python-exercises/date-time-exercise/"
   ]
  },
  {
   "cell_type": "markdown",
   "metadata": {},
   "source": [
    "### Loading data"
   ]
  },
  {
   "cell_type": "code",
   "execution_count": 1,
   "metadata": {},
   "outputs": [
    {
     "name": "stderr",
     "output_type": "stream",
     "text": [
      "C:\\Users\\tflung\\Anaconda3\\lib\\site-packages\\openpyxl\\styles\\stylesheet.py:214: UserWarning: Workbook contains no default style, apply openpyxl's default\n",
      "  warn(\"Workbook contains no default style, apply openpyxl's default\")\n"
     ]
    },
    {
     "data": {
      "text/html": [
       "<div>\n",
       "<style scoped>\n",
       "    .dataframe tbody tr th:only-of-type {\n",
       "        vertical-align: middle;\n",
       "    }\n",
       "\n",
       "    .dataframe tbody tr th {\n",
       "        vertical-align: top;\n",
       "    }\n",
       "\n",
       "    .dataframe thead th {\n",
       "        text-align: right;\n",
       "    }\n",
       "</style>\n",
       "<table border=\"1\" class=\"dataframe\">\n",
       "  <thead>\n",
       "    <tr style=\"text-align: right;\">\n",
       "      <th></th>\n",
       "      <th>Created</th>\n",
       "      <th>CT_ID</th>\n",
       "      <th>MemberName</th>\n",
       "      <th>Language</th>\n",
       "      <th>CM</th>\n",
       "      <th>CTM</th>\n",
       "      <th>AD</th>\n",
       "      <th>Eligibility_Start</th>\n",
       "      <th>Date</th>\n",
       "      <th>name</th>\n",
       "      <th>Comments</th>\n",
       "      <th>Agent</th>\n",
       "      <th>Code</th>\n",
       "      <th>Medicare Team Final Codes</th>\n",
       "      <th>Outcome</th>\n",
       "    </tr>\n",
       "  </thead>\n",
       "  <tbody>\n",
       "    <tr>\n",
       "      <th>2</th>\n",
       "      <td>2021-01-07 10:04:08</td>\n",
       "      <td>DH117950</td>\n",
       "      <td>HOLLEY. DAVID</td>\n",
       "      <td>English</td>\n",
       "      <td>Miriam Taplin</td>\n",
       "      <td>Ahuva Kleiman-Lax</td>\n",
       "      <td>Esther Elefant</td>\n",
       "      <td>2020-03-01 00:00:00</td>\n",
       "      <td>NaN</td>\n",
       "      <td>Yes; warm transfer successful</td>\n",
       "      <td>NaN</td>\n",
       "      <td>Griselle Leonardo (Field)</td>\n",
       "      <td>201.0</td>\n",
       "      <td>201.0</td>\n",
       "      <td>NaN</td>\n",
       "    </tr>\n",
       "    <tr>\n",
       "      <th>3</th>\n",
       "      <td>2021-01-07 10:04:08</td>\n",
       "      <td>RC131785</td>\n",
       "      <td>CINTURATI. ROSE</td>\n",
       "      <td>English</td>\n",
       "      <td>Miriam Taplin</td>\n",
       "      <td>Ahuva Kleiman-Lax</td>\n",
       "      <td>Esther Elefant</td>\n",
       "      <td>2020-11-01 00:00:00</td>\n",
       "      <td>2021-01-12 00:00:00</td>\n",
       "      <td>Yes; warm transfer not successful (Indicate be...</td>\n",
       "      <td>requested call back Wednesday, Thursday or Fri...</td>\n",
       "      <td>NaN</td>\n",
       "      <td>104.0</td>\n",
       "      <td>800.0</td>\n",
       "      <td>NaN</td>\n",
       "    </tr>\n",
       "    <tr>\n",
       "      <th>6</th>\n",
       "      <td>2021-01-07 10:04:08</td>\n",
       "      <td>CB105532</td>\n",
       "      <td>BURRELL. CARLTON</td>\n",
       "      <td>English</td>\n",
       "      <td>Miriam Taplin</td>\n",
       "      <td>Ahuva Kleiman-Lax</td>\n",
       "      <td>Esther Elefant</td>\n",
       "      <td>2019-08-01 00:00:00</td>\n",
       "      <td>2021-01-20 00:00:00</td>\n",
       "      <td>No; member requested a call back (indicate dat...</td>\n",
       "      <td>no time given</td>\n",
       "      <td>Shelly Bobb (Field)</td>\n",
       "      <td>NaN</td>\n",
       "      <td>NaN</td>\n",
       "      <td>NaN</td>\n",
       "    </tr>\n",
       "    <tr>\n",
       "      <th>7</th>\n",
       "      <td>2021-01-07 10:04:08</td>\n",
       "      <td>LB120293</td>\n",
       "      <td>BYRD. LYNDA</td>\n",
       "      <td>English</td>\n",
       "      <td>Miriam Taplin</td>\n",
       "      <td>Ahuva Kleiman-Lax</td>\n",
       "      <td>Esther Elefant</td>\n",
       "      <td>2020-03-01 00:00:00</td>\n",
       "      <td>2021-01-14 00:00:00</td>\n",
       "      <td>Yes; warm transfer successful</td>\n",
       "      <td>NaN</td>\n",
       "      <td>NaN</td>\n",
       "      <td>105.0</td>\n",
       "      <td>602.0</td>\n",
       "      <td>NaN</td>\n",
       "    </tr>\n",
       "    <tr>\n",
       "      <th>8</th>\n",
       "      <td>2021-01-07 10:04:08</td>\n",
       "      <td>JC76149</td>\n",
       "      <td>CARRASQUILLO. JOSEPH</td>\n",
       "      <td>English</td>\n",
       "      <td>Miriam Taplin</td>\n",
       "      <td>Ahuva Kleiman-Lax</td>\n",
       "      <td>Esther Elefant</td>\n",
       "      <td>2018-05-01 00:00:00</td>\n",
       "      <td>2021-01-28 00:00:00</td>\n",
       "      <td>Yes; warm transfer successful</td>\n",
       "      <td>spoke to Joseph who says he has Emblem health ...</td>\n",
       "      <td>Laura Lou SeeFeldt (Field)</td>\n",
       "      <td>101.0</td>\n",
       "      <td>601.0</td>\n",
       "      <td>NaN</td>\n",
       "    </tr>\n",
       "  </tbody>\n",
       "</table>\n",
       "</div>"
      ],
      "text/plain": [
       "              Created     CT_ID            MemberName Language             CM  \\\n",
       "2 2021-01-07 10:04:08  DH117950         HOLLEY. DAVID  English  Miriam Taplin   \n",
       "3 2021-01-07 10:04:08  RC131785       CINTURATI. ROSE  English  Miriam Taplin   \n",
       "6 2021-01-07 10:04:08  CB105532      BURRELL. CARLTON  English  Miriam Taplin   \n",
       "7 2021-01-07 10:04:08  LB120293           BYRD. LYNDA  English  Miriam Taplin   \n",
       "8 2021-01-07 10:04:08   JC76149  CARRASQUILLO. JOSEPH  English  Miriam Taplin   \n",
       "\n",
       "                 CTM              AD    Eligibility_Start  \\\n",
       "2  Ahuva Kleiman-Lax  Esther Elefant  2020-03-01 00:00:00   \n",
       "3  Ahuva Kleiman-Lax  Esther Elefant  2020-11-01 00:00:00   \n",
       "6  Ahuva Kleiman-Lax  Esther Elefant  2019-08-01 00:00:00   \n",
       "7  Ahuva Kleiman-Lax  Esther Elefant  2020-03-01 00:00:00   \n",
       "8  Ahuva Kleiman-Lax  Esther Elefant  2018-05-01 00:00:00   \n",
       "\n",
       "                  Date                                               name  \\\n",
       "2                  NaN                      Yes; warm transfer successful   \n",
       "3  2021-01-12 00:00:00  Yes; warm transfer not successful (Indicate be...   \n",
       "6  2021-01-20 00:00:00  No; member requested a call back (indicate dat...   \n",
       "7  2021-01-14 00:00:00                      Yes; warm transfer successful   \n",
       "8  2021-01-28 00:00:00                      Yes; warm transfer successful   \n",
       "\n",
       "                                            Comments  \\\n",
       "2                                                NaN   \n",
       "3  requested call back Wednesday, Thursday or Fri...   \n",
       "6                                      no time given   \n",
       "7                                                NaN   \n",
       "8  spoke to Joseph who says he has Emblem health ...   \n",
       "\n",
       "                        Agent   Code  Medicare Team Final Codes  Outcome  \n",
       "2   Griselle Leonardo (Field)  201.0                      201.0      NaN  \n",
       "3                         NaN  104.0                      800.0      NaN  \n",
       "6         Shelly Bobb (Field)    NaN                        NaN      NaN  \n",
       "7                         NaN  105.0                      602.0      NaN  \n",
       "8  Laura Lou SeeFeldt (Field)  101.0                      601.0      NaN  "
      ]
     },
     "execution_count": 1,
     "metadata": {},
     "output_type": "execute_result"
    }
   ],
   "source": [
    "import pandas as pd\n",
    "import os\n",
    "\n",
    "# DualEligibleMembers.xlsx\n",
    "#pd.read_excel('DualEligibleMembers.xlsx', index_col=0)\n",
    "\n",
    "\n",
    "\n",
    "df1=pd.read_excel(\n",
    "     os.path.join(\"DualEligibleMembers.xlsx\"),\n",
    "     engine='openpyxl',\n",
    ")\n",
    "\n",
    "# df1\n",
    "\n",
    "# rename\n",
    "\n",
    "df2 = df1.rename(columns={'Did Mbr Agree to warm transfer to a Medicare rep?': 'name'})\n",
    "df2 = df2.rename(columns={'Agent Assigned': 'Agent'})\n",
    "df2 = df2.rename(columns={'Medicare Team Codes': 'Code'})\n",
    "df2 = df2.rename(columns={'Primary Language': 'Language'})\n",
    "df2 = df2.rename(columns={'Date of Successful Outreach': 'Date'})\n",
    "\n",
    "# df2.Language.unique()\n",
    "\n",
    "#List unique values in the df['name'] column\n",
    "#df2.name.unique()\n",
    "\n",
    "\n",
    "# 7 criteria\n",
    "\n",
    "df3 = df2[(df2[\"name\"] == \"Yes; warm transfer successful\") | (df2[\"name\"] == \"No; member requested a call back (indicate date and # number to reach mbr in comment section)\") | (df2[\"name\"] == \"Yes; warm transfer not successful (Indicate best date and contact number to call back)\") | (df2[\"name\"] == \"No; member requested Mailed information (Agreed to be contacted once information arrives)\") | (df2[\"name\"] == \"No; member requested Mailed information (Refused to be contacted once information arrives)\") | (df2[\"name\"] == \"No; information to be mailed (Refused to be contacted once information arrives)\") | (df2[\"name\"] == \"No; information to be mailed (Agreed to be contacted once information arrives)\")]\n",
    "\n",
    "df3.head()"
   ]
  },
  {
   "cell_type": "markdown",
   "metadata": {},
   "source": [
    "### Clean up Null data"
   ]
  },
  {
   "cell_type": "code",
   "execution_count": 2,
   "metadata": {},
   "outputs": [
    {
     "name": "stderr",
     "output_type": "stream",
     "text": [
      "<ipython-input-2-0efa892d66a4>:3: SettingWithCopyWarning: \n",
      "A value is trying to be set on a copy of a slice from a DataFrame.\n",
      "Try using .loc[row_indexer,col_indexer] = value instead\n",
      "\n",
      "See the caveats in the documentation: https://pandas.pydata.org/pandas-docs/stable/user_guide/indexing.html#returning-a-view-versus-a-copy\n",
      "  df3['Date'] = pd.to_datetime(df3['Date'], errors = 'coerce')\n"
     ]
    }
   ],
   "source": [
    "# Drop wrong typing\n",
    "\n",
    "df3['Date'] = pd.to_datetime(df3['Date'], errors = 'coerce')\n",
    "\n",
    "df3 = df3[df3.Date != '01/202021']\n",
    "#df3 = df3[df3.Date != '202/02/16  00:00:00 AM']\n",
    "\n",
    "\n",
    "# Define the Data type\n",
    "\n",
    "df3['Date'] = pd.to_datetime(df3['Date'])"
   ]
  },
  {
   "cell_type": "markdown",
   "metadata": {},
   "source": [
    "## Select Range for Weekly report / Monthly report"
   ]
  },
  {
   "cell_type": "code",
   "execution_count": 3,
   "metadata": {},
   "outputs": [],
   "source": [
    "# Date range\n",
    "\n",
    "\n",
    "# Weekly\n",
    "\n",
    "df4 = df3[(df3['Date'] >= '2021-01-08') & (df3['Date'] <= '2021-01-14')]\n",
    "#df4 = df3[(df3['Date'] >= '2021-01-15') & (df3['Date'] <= '2021-01-21')]\n",
    "#df4 = df3[(df3['Date'] >= '2021-01-22') & (df3['Date'] <= '2021-01-28')]\n",
    "\n",
    "# Monthly\n",
    "\n",
    "#df4 = df3[(df3['Date'] >= '2021-01-08') & (df3['Date'] <= '2021-01-28')]"
   ]
  },
  {
   "cell_type": "markdown",
   "metadata": {},
   "source": [
    "### Rearrange columns"
   ]
  },
  {
   "cell_type": "code",
   "execution_count": 4,
   "metadata": {
    "scrolled": true
   },
   "outputs": [
    {
     "data": {
      "text/html": [
       "<div>\n",
       "<style scoped>\n",
       "    .dataframe tbody tr th:only-of-type {\n",
       "        vertical-align: middle;\n",
       "    }\n",
       "\n",
       "    .dataframe tbody tr th {\n",
       "        vertical-align: top;\n",
       "    }\n",
       "\n",
       "    .dataframe thead th {\n",
       "        text-align: right;\n",
       "    }\n",
       "</style>\n",
       "<table border=\"1\" class=\"dataframe\">\n",
       "  <thead>\n",
       "    <tr style=\"text-align: right;\">\n",
       "      <th></th>\n",
       "      <th>Code</th>\n",
       "      <th>Language</th>\n",
       "      <th>name</th>\n",
       "      <th>Agent</th>\n",
       "    </tr>\n",
       "  </thead>\n",
       "  <tbody>\n",
       "    <tr>\n",
       "      <th>3</th>\n",
       "      <td>104.0</td>\n",
       "      <td>English</td>\n",
       "      <td>Yes; warm transfer not successful (Indicate be...</td>\n",
       "      <td>0</td>\n",
       "    </tr>\n",
       "    <tr>\n",
       "      <th>7</th>\n",
       "      <td>105.0</td>\n",
       "      <td>English</td>\n",
       "      <td>Yes; warm transfer successful</td>\n",
       "      <td>0</td>\n",
       "    </tr>\n",
       "    <tr>\n",
       "      <th>17</th>\n",
       "      <td>201.0</td>\n",
       "      <td>English</td>\n",
       "      <td>No; information to be mailed (Agreed to be con...</td>\n",
       "      <td>Brad Willinger (Tele-Sales)</td>\n",
       "    </tr>\n",
       "    <tr>\n",
       "      <th>18</th>\n",
       "      <td>601.0</td>\n",
       "      <td>English</td>\n",
       "      <td>Yes; warm transfer successful</td>\n",
       "      <td>Griselle Leonardo (Field)</td>\n",
       "    </tr>\n",
       "    <tr>\n",
       "      <th>19</th>\n",
       "      <td>0.0</td>\n",
       "      <td>English</td>\n",
       "      <td>No; information to be mailed (Refused to be co...</td>\n",
       "      <td>Lacier Hernandez (Retention)</td>\n",
       "    </tr>\n",
       "    <tr>\n",
       "      <th>...</th>\n",
       "      <td>...</td>\n",
       "      <td>...</td>\n",
       "      <td>...</td>\n",
       "      <td>...</td>\n",
       "    </tr>\n",
       "    <tr>\n",
       "      <th>5668</th>\n",
       "      <td>600.0</td>\n",
       "      <td>Spanish</td>\n",
       "      <td>No; member requested a call back (indicate dat...</td>\n",
       "      <td>Yanery Fernandez (Field)</td>\n",
       "    </tr>\n",
       "    <tr>\n",
       "      <th>5680</th>\n",
       "      <td>0.0</td>\n",
       "      <td>English</td>\n",
       "      <td>Yes; warm transfer successful</td>\n",
       "      <td>Shelly Bobb (Field)</td>\n",
       "    </tr>\n",
       "    <tr>\n",
       "      <th>5689</th>\n",
       "      <td>0.0</td>\n",
       "      <td>English</td>\n",
       "      <td>No; information to be mailed (Refused to be co...</td>\n",
       "      <td>Lacier Hernandez (Retention)</td>\n",
       "    </tr>\n",
       "    <tr>\n",
       "      <th>5736</th>\n",
       "      <td>202.0</td>\n",
       "      <td>English</td>\n",
       "      <td>No; information to be mailed (Agreed to be con...</td>\n",
       "      <td>Katiria Fernandez (Tele-Sales)</td>\n",
       "    </tr>\n",
       "    <tr>\n",
       "      <th>5743</th>\n",
       "      <td>800.0</td>\n",
       "      <td>English</td>\n",
       "      <td>No; information to be mailed (Refused to be co...</td>\n",
       "      <td>Lacier Hernandez (Retention)</td>\n",
       "    </tr>\n",
       "  </tbody>\n",
       "</table>\n",
       "<p>754 rows × 4 columns</p>\n",
       "</div>"
      ],
      "text/plain": [
       "       Code Language                                               name  \\\n",
       "3     104.0  English  Yes; warm transfer not successful (Indicate be...   \n",
       "7     105.0  English                      Yes; warm transfer successful   \n",
       "17    201.0  English  No; information to be mailed (Agreed to be con...   \n",
       "18    601.0  English                      Yes; warm transfer successful   \n",
       "19      0.0  English  No; information to be mailed (Refused to be co...   \n",
       "...     ...      ...                                                ...   \n",
       "5668  600.0  Spanish  No; member requested a call back (indicate dat...   \n",
       "5680    0.0  English                      Yes; warm transfer successful   \n",
       "5689    0.0  English  No; information to be mailed (Refused to be co...   \n",
       "5736  202.0  English  No; information to be mailed (Agreed to be con...   \n",
       "5743  800.0  English  No; information to be mailed (Refused to be co...   \n",
       "\n",
       "                               Agent  \n",
       "3                                  0  \n",
       "7                                  0  \n",
       "17       Brad Willinger (Tele-Sales)  \n",
       "18         Griselle Leonardo (Field)  \n",
       "19      Lacier Hernandez (Retention)  \n",
       "...                              ...  \n",
       "5668        Yanery Fernandez (Field)  \n",
       "5680             Shelly Bobb (Field)  \n",
       "5689    Lacier Hernandez (Retention)  \n",
       "5736  Katiria Fernandez (Tele-Sales)  \n",
       "5743    Lacier Hernandez (Retention)  \n",
       "\n",
       "[754 rows x 4 columns]"
      ]
     },
     "execution_count": 4,
     "metadata": {},
     "output_type": "execute_result"
    }
   ],
   "source": [
    "# Codes = 100\n",
    "#df5 = df4[(df4[\"1st_code\"] == 100)]\n",
    "\n",
    "# select columns\n",
    "\n",
    "df6 = df4[['Code', 'Language', 'name', 'Agent']]\n",
    "\n",
    "# NaN to \"0\"\n",
    "df7 = df6.fillna(0)\n",
    "df7"
   ]
  },
  {
   "cell_type": "markdown",
   "metadata": {},
   "source": [
    "### Export xlsx file"
   ]
  },
  {
   "cell_type": "code",
   "execution_count": 5,
   "metadata": {},
   "outputs": [],
   "source": [
    "# https://datatofish.com/export-dataframe-to-excel/\n",
    "\n",
    "df7.to_excel(r'2.xlsx', index = False)"
   ]
  },
  {
   "cell_type": "code",
   "execution_count": null,
   "metadata": {},
   "outputs": [],
   "source": []
  },
  {
   "cell_type": "code",
   "execution_count": null,
   "metadata": {},
   "outputs": [],
   "source": []
  },
  {
   "cell_type": "markdown",
   "metadata": {},
   "source": [
    "# Daily Progress report for CM INITIATIVE part"
   ]
  },
  {
   "cell_type": "code",
   "execution_count": 6,
   "metadata": {},
   "outputs": [],
   "source": [
    "# Input df3 to df9 (After 7 criteria & cleaning up null)\n",
    "\n",
    "# All this month\n",
    "#df9 = df3[(df3['Date'] >= '2021-01-01') & (df3['Date'] <= '2021-01-31')]\n",
    "\n",
    "df9 = df3[(df3['Date'] >= '2021-06-01') & (df3['Date'] <= '2021-06-30')]\n",
    "\n",
    "# AEP\n",
    "#df9 = df3[(df3['Date'] >= '2020-10-15') & (df3['Date'] <= '2020-12-7')]\n",
    "\n",
    "# Agent = ?\n",
    "#df9 = df8[(df8[\"Agent\"] == \"Yanery Fernandez (Field)\")]\n",
    "\n",
    "# Codes = 100\n",
    "\n",
    "df10 = df9[(df9[\"Code\"] == 100)]\n",
    "\n",
    "#df10\n"
   ]
  },
  {
   "cell_type": "code",
   "execution_count": 14,
   "metadata": {},
   "outputs": [
    {
     "data": {
      "text/plain": [
       "Created                      0\n",
       "CT_ID                        0\n",
       "MemberName                   0\n",
       "Language                     0\n",
       "CM                           0\n",
       "CTM                          0\n",
       "AD                           0\n",
       "Eligibility_Start            0\n",
       "Date                         0\n",
       "name                         0\n",
       "Comments                     0\n",
       "Agent                        0\n",
       "Code                         0\n",
       "Medicare Team Final Codes    0\n",
       "Outcome                      0\n",
       "dtype: int64"
      ]
     },
     "execution_count": 14,
     "metadata": {},
     "output_type": "execute_result"
    }
   ],
   "source": [
    "df10.count()"
   ]
  },
  {
   "cell_type": "code",
   "execution_count": 15,
   "metadata": {},
   "outputs": [
    {
     "data": {
      "text/html": [
       "<div>\n",
       "<style scoped>\n",
       "    .dataframe tbody tr th:only-of-type {\n",
       "        vertical-align: middle;\n",
       "    }\n",
       "\n",
       "    .dataframe tbody tr th {\n",
       "        vertical-align: top;\n",
       "    }\n",
       "\n",
       "    .dataframe thead th {\n",
       "        text-align: right;\n",
       "    }\n",
       "</style>\n",
       "<table border=\"1\" class=\"dataframe\">\n",
       "  <thead>\n",
       "    <tr style=\"text-align: right;\">\n",
       "      <th></th>\n",
       "      <th>Agent</th>\n",
       "      <th>count</th>\n",
       "    </tr>\n",
       "  </thead>\n",
       "  <tbody>\n",
       "  </tbody>\n",
       "</table>\n",
       "</div>"
      ],
      "text/plain": [
       "Empty DataFrame\n",
       "Columns: [Agent, count]\n",
       "Index: []"
      ]
     },
     "execution_count": 15,
     "metadata": {},
     "output_type": "execute_result"
    }
   ],
   "source": [
    "# select columns\n",
    "\n",
    "df11 = df10[['Agent']]\n",
    "\n",
    "df12 = df11.groupby([\"Agent\"])[\"Agent\"].count().reset_index(name=\"count\")\n",
    "\n",
    "df12"
   ]
  },
  {
   "cell_type": "code",
   "execution_count": null,
   "metadata": {},
   "outputs": [],
   "source": []
  },
  {
   "cell_type": "code",
   "execution_count": null,
   "metadata": {},
   "outputs": [],
   "source": []
  },
  {
   "cell_type": "code",
   "execution_count": null,
   "metadata": {},
   "outputs": [],
   "source": []
  },
  {
   "cell_type": "markdown",
   "metadata": {},
   "source": [
    "# AEP TeleSales - Language"
   ]
  },
  {
   "cell_type": "code",
   "execution_count": 9,
   "metadata": {},
   "outputs": [
    {
     "data": {
      "text/html": [
       "<div>\n",
       "<style scoped>\n",
       "    .dataframe tbody tr th:only-of-type {\n",
       "        vertical-align: middle;\n",
       "    }\n",
       "\n",
       "    .dataframe tbody tr th {\n",
       "        vertical-align: top;\n",
       "    }\n",
       "\n",
       "    .dataframe thead th {\n",
       "        text-align: right;\n",
       "    }\n",
       "</style>\n",
       "<table border=\"1\" class=\"dataframe\">\n",
       "  <thead>\n",
       "    <tr style=\"text-align: right;\">\n",
       "      <th></th>\n",
       "      <th>Language</th>\n",
       "      <th>count</th>\n",
       "    </tr>\n",
       "  </thead>\n",
       "  <tbody>\n",
       "  </tbody>\n",
       "</table>\n",
       "</div>"
      ],
      "text/plain": [
       "Empty DataFrame\n",
       "Columns: [Language, count]\n",
       "Index: []"
      ]
     },
     "execution_count": 9,
     "metadata": {},
     "output_type": "execute_result"
    }
   ],
   "source": [
    "# select columns\n",
    "\n",
    "df13 = df10[['Language']]\n",
    "\n",
    "df14 = df13.groupby([\"Language\"])[\"Language\"].count().reset_index(name=\"count\")\n",
    "\n",
    "df14"
   ]
  },
  {
   "cell_type": "code",
   "execution_count": null,
   "metadata": {},
   "outputs": [],
   "source": []
  },
  {
   "cell_type": "code",
   "execution_count": null,
   "metadata": {},
   "outputs": [],
   "source": []
  },
  {
   "cell_type": "code",
   "execution_count": null,
   "metadata": {},
   "outputs": [],
   "source": []
  },
  {
   "cell_type": "code",
   "execution_count": null,
   "metadata": {},
   "outputs": [],
   "source": []
  },
  {
   "cell_type": "code",
   "execution_count": null,
   "metadata": {},
   "outputs": [],
   "source": []
  },
  {
   "cell_type": "markdown",
   "metadata": {},
   "source": [
    "# data to google sheet\n",
    "\n",
    "-  https://erikrood.com/Posts/py_gsheets.html\n",
    "\n",
    "- jim-320@steady-grid-301816.iam.gserviceaccount.com\n",
    "\n"
   ]
  },
  {
   "cell_type": "code",
   "execution_count": null,
   "metadata": {},
   "outputs": [],
   "source": []
  },
  {
   "cell_type": "code",
   "execution_count": null,
   "metadata": {},
   "outputs": [],
   "source": []
  },
  {
   "cell_type": "code",
   "execution_count": 3,
   "metadata": {},
   "outputs": [],
   "source": []
  },
  {
   "cell_type": "code",
   "execution_count": null,
   "metadata": {},
   "outputs": [],
   "source": []
  },
  {
   "cell_type": "code",
   "execution_count": null,
   "metadata": {},
   "outputs": [],
   "source": []
  },
  {
   "cell_type": "code",
   "execution_count": 43,
   "metadata": {},
   "outputs": [
    {
     "data": {
      "text/plain": [
       "Language    28\n",
       "name        28\n",
       "Agent       28\n",
       "dtype: int64"
      ]
     },
     "execution_count": 43,
     "metadata": {},
     "output_type": "execute_result"
    }
   ],
   "source": [
    "df6.count()"
   ]
  },
  {
   "cell_type": "code",
   "execution_count": 57,
   "metadata": {},
   "outputs": [
    {
     "data": {
      "text/html": [
       "<div>\n",
       "<style scoped>\n",
       "    .dataframe tbody tr th:only-of-type {\n",
       "        vertical-align: middle;\n",
       "    }\n",
       "\n",
       "    .dataframe tbody tr th {\n",
       "        vertical-align: top;\n",
       "    }\n",
       "\n",
       "    .dataframe thead th {\n",
       "        text-align: right;\n",
       "    }\n",
       "</style>\n",
       "<table border=\"1\" class=\"dataframe\">\n",
       "  <thead>\n",
       "    <tr style=\"text-align: right;\">\n",
       "      <th></th>\n",
       "      <th>name</th>\n",
       "      <th>Language</th>\n",
       "      <th>count</th>\n",
       "    </tr>\n",
       "  </thead>\n",
       "  <tbody>\n",
       "    <tr>\n",
       "      <th>0</th>\n",
       "      <td>No; member requested a call back (indicate dat...</td>\n",
       "      <td>English</td>\n",
       "      <td>4</td>\n",
       "    </tr>\n",
       "    <tr>\n",
       "      <th>1</th>\n",
       "      <td>No; member requested a call back (indicate dat...</td>\n",
       "      <td>Spanish</td>\n",
       "      <td>1</td>\n",
       "    </tr>\n",
       "    <tr>\n",
       "      <th>2</th>\n",
       "      <td>Yes; warm transfer successful</td>\n",
       "      <td>English</td>\n",
       "      <td>16</td>\n",
       "    </tr>\n",
       "    <tr>\n",
       "      <th>3</th>\n",
       "      <td>Yes; warm transfer successful</td>\n",
       "      <td>Spanish</td>\n",
       "      <td>7</td>\n",
       "    </tr>\n",
       "  </tbody>\n",
       "</table>\n",
       "</div>"
      ],
      "text/plain": [
       "                                                name Language  count\n",
       "0  No; member requested a call back (indicate dat...  English      4\n",
       "1  No; member requested a call back (indicate dat...  Spanish      1\n",
       "2                      Yes; warm transfer successful  English     16\n",
       "3                      Yes; warm transfer successful  Spanish      7"
      ]
     },
     "execution_count": 57,
     "metadata": {},
     "output_type": "execute_result"
    }
   ],
   "source": [
    "#df6.groupby([\"name\", \"Language\"]).count()\n",
    "#df6.groupby(['Language']).agg(['min','max','count','nunique'])\n",
    "\n",
    "df9 = df6.groupby([\"name\", \"Language\"])[\"Agent\"].count().reset_index(name=\"count\")\n",
    "df9\n",
    "\n",
    "#df9.unstack(level=-1)"
   ]
  },
  {
   "cell_type": "code",
   "execution_count": 45,
   "metadata": {},
   "outputs": [
    {
     "data": {
      "text/html": [
       "<div>\n",
       "<style scoped>\n",
       "    .dataframe tbody tr th:only-of-type {\n",
       "        vertical-align: middle;\n",
       "    }\n",
       "\n",
       "    .dataframe tbody tr th {\n",
       "        vertical-align: top;\n",
       "    }\n",
       "\n",
       "    .dataframe thead th {\n",
       "        text-align: right;\n",
       "    }\n",
       "</style>\n",
       "<table border=\"1\" class=\"dataframe\">\n",
       "  <thead>\n",
       "    <tr style=\"text-align: right;\">\n",
       "      <th></th>\n",
       "      <th>name</th>\n",
       "      <th>Agent</th>\n",
       "    </tr>\n",
       "    <tr>\n",
       "      <th>Language</th>\n",
       "      <th></th>\n",
       "      <th></th>\n",
       "    </tr>\n",
       "  </thead>\n",
       "  <tbody>\n",
       "    <tr>\n",
       "      <th>English</th>\n",
       "      <td>20</td>\n",
       "      <td>20</td>\n",
       "    </tr>\n",
       "    <tr>\n",
       "      <th>Spanish</th>\n",
       "      <td>8</td>\n",
       "      <td>8</td>\n",
       "    </tr>\n",
       "  </tbody>\n",
       "</table>\n",
       "</div>"
      ],
      "text/plain": [
       "          name  Agent\n",
       "Language             \n",
       "English     20     20\n",
       "Spanish      8      8"
      ]
     },
     "execution_count": 45,
     "metadata": {},
     "output_type": "execute_result"
    }
   ],
   "source": [
    "df6.groupby([\"Language\"]).count()"
   ]
  },
  {
   "cell_type": "code",
   "execution_count": 61,
   "metadata": {},
   "outputs": [
    {
     "data": {
      "text/html": [
       "<div>\n",
       "<style scoped>\n",
       "    .dataframe tbody tr th:only-of-type {\n",
       "        vertical-align: middle;\n",
       "    }\n",
       "\n",
       "    .dataframe tbody tr th {\n",
       "        vertical-align: top;\n",
       "    }\n",
       "\n",
       "    .dataframe thead tr th {\n",
       "        text-align: left;\n",
       "    }\n",
       "\n",
       "    .dataframe thead tr:last-of-type th {\n",
       "        text-align: right;\n",
       "    }\n",
       "</style>\n",
       "<table border=\"1\" class=\"dataframe\">\n",
       "  <thead>\n",
       "    <tr>\n",
       "      <th></th>\n",
       "      <th colspan=\"2\" halign=\"left\">name</th>\n",
       "    </tr>\n",
       "    <tr>\n",
       "      <th>Language</th>\n",
       "      <th>English</th>\n",
       "      <th>Spanish</th>\n",
       "    </tr>\n",
       "    <tr>\n",
       "      <th>Agent</th>\n",
       "      <th></th>\n",
       "      <th></th>\n",
       "    </tr>\n",
       "  </thead>\n",
       "  <tbody>\n",
       "    <tr>\n",
       "      <th>Brad Willinger (Tele-Sales)</th>\n",
       "      <td>4.0</td>\n",
       "      <td>NaN</td>\n",
       "    </tr>\n",
       "    <tr>\n",
       "      <th>Carolina Zuluaga (Tele-Sales)</th>\n",
       "      <td>3.0</td>\n",
       "      <td>3.0</td>\n",
       "    </tr>\n",
       "    <tr>\n",
       "      <th>Ivonne Cedeno-Mendoza (Field)</th>\n",
       "      <td>1.0</td>\n",
       "      <td>4.0</td>\n",
       "    </tr>\n",
       "    <tr>\n",
       "      <th>Katiria Fernandez (Tele-Sales)</th>\n",
       "      <td>1.0</td>\n",
       "      <td>NaN</td>\n",
       "    </tr>\n",
       "    <tr>\n",
       "      <th>Laura Lou SeeFeldt (Field)</th>\n",
       "      <td>1.0</td>\n",
       "      <td>NaN</td>\n",
       "    </tr>\n",
       "    <tr>\n",
       "      <th>Mona Crossway (Field)</th>\n",
       "      <td>3.0</td>\n",
       "      <td>NaN</td>\n",
       "    </tr>\n",
       "    <tr>\n",
       "      <th>Yanery Fernandez (Field)</th>\n",
       "      <td>7.0</td>\n",
       "      <td>1.0</td>\n",
       "    </tr>\n",
       "  </tbody>\n",
       "</table>\n",
       "</div>"
      ],
      "text/plain": [
       "                                  name        \n",
       "Language                       English Spanish\n",
       "Agent                                         \n",
       "Brad Willinger (Tele-Sales)        4.0     NaN\n",
       "Carolina Zuluaga (Tele-Sales)      3.0     3.0\n",
       "Ivonne Cedeno-Mendoza (Field)      1.0     4.0\n",
       "Katiria Fernandez (Tele-Sales)     1.0     NaN\n",
       "Laura Lou SeeFeldt (Field)         1.0     NaN\n",
       "Mona Crossway (Field)              3.0     NaN\n",
       "Yanery Fernandez (Field)           7.0     1.0"
      ]
     },
     "execution_count": 61,
     "metadata": {},
     "output_type": "execute_result"
    }
   ],
   "source": [
    "df8 = df6.groupby([\"Agent\", \"Language\"]).count()\n",
    "#df8\n",
    "\n",
    "df10 = df8.unstack(level=-1)\n",
    "#df10\n",
    "\n",
    "df10.sort_values([\"Agent\"])"
   ]
  },
  {
   "cell_type": "code",
   "execution_count": null,
   "metadata": {},
   "outputs": [],
   "source": []
  },
  {
   "cell_type": "code",
   "execution_count": null,
   "metadata": {},
   "outputs": [],
   "source": []
  },
  {
   "cell_type": "code",
   "execution_count": null,
   "metadata": {},
   "outputs": [],
   "source": []
  },
  {
   "cell_type": "code",
   "execution_count": null,
   "metadata": {},
   "outputs": [],
   "source": []
  },
  {
   "cell_type": "code",
   "execution_count": null,
   "metadata": {},
   "outputs": [],
   "source": []
  },
  {
   "cell_type": "code",
   "execution_count": null,
   "metadata": {},
   "outputs": [],
   "source": []
  },
  {
   "cell_type": "code",
   "execution_count": null,
   "metadata": {},
   "outputs": [],
   "source": []
  }
 ],
 "metadata": {
  "kernelspec": {
   "display_name": "Python 3",
   "language": "python",
   "name": "python3"
  },
  "language_info": {
   "codemirror_mode": {
    "name": "ipython",
    "version": 3
   },
   "file_extension": ".py",
   "mimetype": "text/x-python",
   "name": "python",
   "nbconvert_exporter": "python",
   "pygments_lexer": "ipython3",
   "version": "3.8.5"
  }
 },
 "nbformat": 4,
 "nbformat_minor": 4
}
