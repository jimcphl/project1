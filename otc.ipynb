{
 "cells": [
  {
   "cell_type": "markdown",
   "metadata": {},
   "source": [
    "# otc"
   ]
  },
  {
   "cell_type": "code",
   "execution_count": 3,
   "metadata": {},
   "outputs": [],
   "source": [
    "otc = 'Retailers_All_20210812092711'"
   ]
  },
  {
   "cell_type": "code",
   "execution_count": 4,
   "metadata": {},
   "outputs": [
    {
     "name": "stdout",
     "output_type": "stream",
     "text": [
      "The file does not exist\n"
     ]
    }
   ],
   "source": [
    "import os\n",
    "import shutil, sys\n",
    "\n",
    "\n",
    "if os.path.exists(\"C:/Users/tflung/Downloads/otc.xlsx\"):\n",
    "  os.remove(\"C:/Users/tflung/Downloads/otc.xlsx\")\n",
    "else:\n",
    "  print(\"The file does not exist\")\n",
    "\n",
    "# Change file name\n",
    "os.rename(r'C:\\Users\\tflung\\Downloads\\{}.xlsx'.format(otc),\n",
    "          r'C:\\Users\\tflung\\Downloads\\otc.xlsx')"
   ]
  },
  {
   "cell_type": "code",
   "execution_count": 6,
   "metadata": {},
   "outputs": [
    {
     "name": "stdout",
     "output_type": "stream",
     "text": [
      "4896\n"
     ]
    }
   ],
   "source": [
    "import os\n",
    "import pandas as pd\n",
    "\n",
    "url = \"C:\\\\Users\\\\tflung\\\\Downloads\\\\otc.xlsx\"\n",
    "\n",
    "df1=pd.read_excel(\n",
    "     os.path.join(url),\n",
    "     engine='openpyxl',\n",
    "     sheet_name='Retailers'\n",
    ")\n",
    "\n",
    "df2 = df1[(df1['State']) == 'NY']\n",
    "\n",
    "print (len(df2))"
   ]
  },
  {
   "cell_type": "code",
   "execution_count": 7,
   "metadata": {},
   "outputs": [],
   "source": [
    "df2.to_csv(r'otc.csv', index = False)"
   ]
  },
  {
   "cell_type": "code",
   "execution_count": null,
   "metadata": {},
   "outputs": [],
   "source": []
  }
 ],
 "metadata": {
  "kernelspec": {
   "display_name": "Python 3 (ipykernel)",
   "language": "python",
   "name": "python3"
  },
  "language_info": {
   "codemirror_mode": {
    "name": "ipython",
    "version": 3
   },
   "file_extension": ".py",
   "mimetype": "text/x-python",
   "name": "python",
   "nbconvert_exporter": "python",
   "pygments_lexer": "ipython3",
   "version": "3.8.5"
  }
 },
 "nbformat": 4,
 "nbformat_minor": 4
}
