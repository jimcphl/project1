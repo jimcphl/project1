{
 "cells": [
  {
   "cell_type": "code",
   "execution_count": null,
   "id": "61af5ef9",
   "metadata": {},
   "outputs": [],
   "source": [
    "# AI Web cam system\n",
    "\n",
    "- https://towardsdatascience.com/streaming-to-apple-home-with-a-custom-ai-layer-b8ccebfc09\n",
    "    \n",
    "- https://anyconnect.com/ai-containers-vs-docker-kubernetes/"
   ]
  }
 ],
 "metadata": {
  "kernelspec": {
   "display_name": "Python 3 (ipykernel)",
   "language": "python",
   "name": "python3"
  },
  "language_info": {
   "codemirror_mode": {
    "name": "ipython",
    "version": 3
   },
   "file_extension": ".py",
   "mimetype": "text/x-python",
   "name": "python",
   "nbconvert_exporter": "python",
   "pygments_lexer": "ipython3",
   "version": "3.8.5"
  }
 },
 "nbformat": 4,
 "nbformat_minor": 5
}
