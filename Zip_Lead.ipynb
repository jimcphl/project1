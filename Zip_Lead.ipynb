{
 "cells": [
  {
   "cell_type": "markdown",
   "metadata": {},
   "source": [
    "# Zip_Lead\n",
    "- https://app.smartsheet.com/sheets/4CC4frr8RWhhj6wmH8JqxFQxgPxFmHFhMjC3P3X1?view=grid\n",
    "- SALES TELESALES LEAD SOURCE TRACKER"
   ]
  },
  {
   "cell_type": "code",
   "execution_count": 2,
   "metadata": {},
   "outputs": [
    {
     "name": "stderr",
     "output_type": "stream",
     "text": [
      "C:\\Users\\tflung\\Anaconda3\\lib\\site-packages\\openpyxl\\styles\\stylesheet.py:226: UserWarning: Workbook contains no default style, apply openpyxl's default\n",
      "  warn(\"Workbook contains no default style, apply openpyxl's default\")\n"
     ]
    },
    {
     "name": "stdout",
     "output_type": "stream",
     "text": [
      "Index(['DATE', 'MONTH', 'REFERRAL SOURCE', 'Prospect Last Name',\n",
      "       'Prospect First Name', 'Prospect Phone Number', 'ZIP CODE', 'TYPE',\n",
      "       'DETAIL', 'PHONE ADVISOR', 'PRODUCT', 'COMMENTS', 'DISPOSITION CODE'],\n",
      "      dtype='object')\n",
      "          DATE MONTH     REFERRAL SOURCE Prospect Last Name  \\\n",
      "0   2021-06-29   JUN  INTERNAL MARKETING           SAUNDERS   \n",
      "1   2021-06-30   JUN  INTERNAL MARKETING              Jones   \n",
      "2   2021-06-30   JUN  INTERNAL MARKETING            Morales   \n",
      "3   2021-06-30   JUN  INTERNAL MARKETING              Malve   \n",
      "4   2021-06-30   JUN  INTERNAL MARKETING             AIRALL   \n",
      "..         ...   ...                 ...                ...   \n",
      "824 2022-01-06   JAN  INTERNAL MARKETING              Peace   \n",
      "825 2022-01-07   JAN  INTERNAL MARKETING             Rogers   \n",
      "826 2022-01-12   JAN  INTERNAL MARKETING               Ruby   \n",
      "827 2022-02-15   FEB  INTERNAL MARKETING            Krupnik   \n",
      "828 2022-03-01   MAR  INTERNAL MARKETING            Johnson   \n",
      "\n",
      "    Prospect First Name Prospect Phone Number  ZIP CODE          TYPE  \\\n",
      "0                 RICCI          929-351-1215   10453.0         PRINT   \n",
      "1           Benjamin S.        (347) 717-1770   10457.0         PRINT   \n",
      "2                Daniel       (347) 338- 4099       0.0         PRINT   \n",
      "3               Rosario       (917) 473- 7385   10452.0         PRINT   \n",
      "4                  DALE          646-314-0677   10452.0         PRINT   \n",
      "..                  ...                   ...       ...           ...   \n",
      "824             Roxanne        (917) 651-5664   11692.0  SOCIAL MEDIA   \n",
      "825             William        (347) 737-2824   10303.0         PRINT   \n",
      "826                Dawn        (518) 610-5605   12521.0         PRINT   \n",
      "827            Gregoric         (917)669-7782       0.0   BUS SHELTER   \n",
      "828            Veronica        (929) 305-8701   11207.0  SOCIAL MEDIA   \n",
      "\n",
      "                DETAIL      PHONE ADVISOR     PRODUCT  \\\n",
      "0            POST CARD     Brad Willinger        MAPD   \n",
      "1            POST CARD  Katiria Fernandez        DSNP   \n",
      "2            POST CARD  Katiria Fernandez        MAPD   \n",
      "3            POST CARD  Katiria Fernandez  DSNP\\nMAPD   \n",
      "4            POST CARD     Brad Willinger        DSNP   \n",
      "..                 ...                ...         ...   \n",
      "824  CPHL Landing Page     Brad Willinger       Blank   \n",
      "825                CMS     Brad Willinger       Blank   \n",
      "826                CMS  Katiria Fernandez       Blank   \n",
      "827        BUS SHELTER  Katiria Fernandez        DSNP   \n",
      "828  CPHL Landing Page     Brad Willinger   DSNP\\nMAP   \n",
      "\n",
      "                                              COMMENTS  \\\n",
      "0    Prospect doesn't have Medicare Part B, only Pa...   \n",
      "1    Prospect had recently changed plans to Empire....   \n",
      "2    Only has Medicare B. Needs to apply for part A...   \n",
      "3    Not interested. Better OTC benefit with curren...   \n",
      "4                                                Blank   \n",
      "..                                                 ...   \n",
      "824  01/06- Contacted member and left detailed VM w...   \n",
      "825  01/07- Prospect only has Medicare A&B. His spe...   \n",
      "826  01/12- Prospect called interested in MA plan i...   \n",
      "827  02/15- Prospect's dtr Marianna called stating ...   \n",
      "828  03/01- Left detailed VM with best contact #.03...   \n",
      "\n",
      "                        DISPOSITION CODE  \n",
      "0                    800\\tNOT INTERESTED  \n",
      "1                    800\\tNOT INTERESTED  \n",
      "2                      904 NO MEDICARE A  \n",
      "3    601\\tHAPPY WITH CURRENT HEALTH PLAN  \n",
      "4                          100\\tENROLLED  \n",
      "..                                   ...  \n",
      "824           603 “ Already CPHL Member”  \n",
      "825     201\\tPROVIDER NOT PAR SPECIALIST  \n",
      "826              906 OUT OF SERVICE AREA  \n",
      "827       202\\tPROVIDER NOT PAR HOSPITAL  \n",
      "828           104\\tREQUESTED A CALL BACK  \n",
      "\n",
      "[829 rows x 13 columns]\n"
     ]
    }
   ],
   "source": [
    "import pandas as pd\n",
    "import os\n",
    "\n",
    "# DualEligibleMembers.xlsx\n",
    "#pd.read_excel('DualEligibleMembers.xlsx', index_col=0)\n",
    "\n",
    "\n",
    "\n",
    "df1=pd.read_excel(\n",
    "     os.path.join(\"SALES TELESALES LEAD SOURCE TRACKER.xlsx\"),\n",
    "     engine='openpyxl',\n",
    ")\n",
    "\n",
    "#df1\n",
    "df1['DATE'] = pd.to_datetime(df1['DATE'], errors = 'coerce')\n",
    "\n",
    "df1['DISPOSITION CODE'] = df1['DISPOSITION CODE'].fillna('Blank')\n",
    "df1['ZIP CODE'] = df1['ZIP CODE'].fillna(0)\n",
    "#df1['STATUS'] = df1['STATUS'].fillna('Blank')\n",
    "df1['PRODUCT'] = df1['PRODUCT'].fillna('Blank')\n",
    "df1['COMMENTS'] = df1['COMMENTS'].fillna('Blank')\n",
    "\n",
    "df1 = df1[['DATE','MONTH', 'REFERRAL SOURCE', 'Prospect Last Name',\n",
    "       'Prospect First Name', 'Prospect Phone Number', 'ZIP CODE', 'TYPE',\n",
    "       'DETAIL', 'PHONE ADVISOR', 'PRODUCT', 'COMMENTS',\n",
    "       'DISPOSITION CODE']]\n",
    "\n",
    "df1 = df1.dropna(subset=['DISPOSITION CODE'])\n",
    "\n",
    "\n",
    "print (df1.columns)\n",
    "\n",
    "print (df1)"
   ]
  },
  {
   "cell_type": "code",
   "execution_count": 3,
   "metadata": {},
   "outputs": [],
   "source": [
    "df1.to_csv(r'zip_lead.csv', index = False)"
   ]
  },
  {
   "cell_type": "code",
   "execution_count": 4,
   "metadata": {},
   "outputs": [],
   "source": [
    "with pd.ExcelWriter('zip_lead.xlsx',\n",
    "                  date_format='YYYY-MM-DD',\n",
    "                  datetime_format='YYYY-MM-DD') as writer:\n",
    "    df1.to_excel(writer, index=False)"
   ]
  },
  {
   "cell_type": "code",
   "execution_count": 5,
   "metadata": {},
   "outputs": [
    {
     "data": {
      "text/plain": [
       "0"
      ]
     },
     "execution_count": 5,
     "metadata": {},
     "output_type": "execute_result"
    }
   ],
   "source": [
    "import os\n",
    "\n",
    "# C:\\Users\\tflung\\Downloads\\WPy64-3870\\notebooks\n",
    "\n",
    "\n",
    "os.chdir('C:\\\\Users\\\\tflung\\\\Downloads\\\\WPy64-3870\\\\notebooks')\n",
    "\n",
    "os.system('zip_lead.xlsx\"')"
   ]
  },
  {
   "cell_type": "markdown",
   "metadata": {},
   "source": [
    "# Part 2"
   ]
  },
  {
   "cell_type": "code",
   "execution_count": 6,
   "metadata": {},
   "outputs": [
    {
     "name": "stdout",
     "output_type": "stream",
     "text": [
      "Index(['CT ID', 'Member ID', 'Member Last Name', 'Member First Name', 'MBI',\n",
      "       'CIN', 'Service Area', 'LOB', 'Enrollment Date',\n",
      "       'Disenrollment/End Date', 'Status', 'SubStatus', 'App Date',\n",
      "       'App Received Date', 'Date Submitted to CMS', 'Processed Days',\n",
      "       'Marketing Rep', 'Comments/Notes', 'Date of RFI Letter (ENR)',\n",
      "       'Reason for Additional Information (ENR)', 'Information Due Date (ENR)',\n",
      "       'Date Information Received (ENR)', 'Election Period', 'SEP Reason',\n",
      "       'Referral Source', 'Denial/Rejected Reason',\n",
      "       'Disenrollment/Cancellation Reason',\n",
      "       'Voluntary/Involuntary Disenrollment', 'Signed Letter',\n",
      "       'Date of Signed Letter', 'Date of Signed Letter Received',\n",
      "       'Disenrollment Request Status', 'Date of RFI Letter (DISENR)',\n",
      "       'Reason for Additional Information (DISENR)',\n",
      "       'Information Due Date (DISENR)', 'Date Information Received (DISENR)',\n",
      "       'New Contract Number', 'PCP Auto-Assigned (Y/N)',\n",
      "       'Number of Months Enrolled', 'HICN', 'Name of Facility',\n",
      "       'Enrollment Mechanism', 'Original Plan', 'Drug Plan',\n",
      "       'Command Id Card Proof Received', 'Date Enrolled on DTRR',\n",
      "       'Date of Enrollment/Cancellation/Rejection or Denial Letter Sent'],\n",
      "      dtype='object')\n",
      "         CT ID  Member ID Member Last Name Member First Name          MBI  \\\n",
      "6501  RM133672     138938             Mann            Robert  4XQ3KH7QK00   \n",
      "6503  EG133686     138951           Guzman              Elsa  2CQ9W51TY59   \n",
      "6504  AF133688     138953           Fields             Alvin  7DQ2UX7NH27   \n",
      "6507  PS133732     138996         Seefeldt           Pauline  4FH7AM0UN45   \n",
      "6517  HD133552     138823            Davey            Houlda  6XG0C20VQ26   \n",
      "...        ...        ...              ...               ...          ...   \n",
      "8820  C-124800     326763        Duravchuk         Nadezhda   3G08T87HW46   \n",
      "8821  C-124827     326778             Alie             Joel   8JA1VF0CH05   \n",
      "8822  C-124852     326792         Goldberg             Mark   4QF2T89UR06   \n",
      "8823  C-125016      54245            Begum           Bashir   6G70HP0VN46   \n",
      "8824  C-125194     326871          Johnson        Elizabeth   5HN9GY7DH55   \n",
      "\n",
      "           CIN Service Area    LOB Enrollment Date Disenrollment/End Date  \\\n",
      "6501  ZY95965D          NYC  D-SNP      2021-01-01                    NaT   \n",
      "6503  TZ12850Y          NYC  D-SNP      2021-01-01                    NaT   \n",
      "6504  NG73336V          NYC  D-SNP      2021-01-01                    NaT   \n",
      "6507       NaN          NYC   MAPD      2021-01-01                    NaT   \n",
      "6517       NaN          NYC   MAPD      2021-01-01                    NaT   \n",
      "...        ...          ...    ...             ...                    ...   \n",
      "8820  NW19649H          NYC  D-SNP      2022-04-01                    NaT   \n",
      "8821  SS27342W          NYC  D-SNP      2022-04-01                    NaT   \n",
      "8822  XJ89476P          NYC  D-SNP      2022-04-01                    NaT   \n",
      "8823  EQ32674Z          NYC  D-SNP      2022-04-01                    NaT   \n",
      "8824  MB88040V          NYC  D-SNP      2022-04-01                    NaT   \n",
      "\n",
      "      ... PCP Auto-Assigned (Y/N) Number of Months Enrolled HICN  \\\n",
      "6501  ...                      No                       NaN  NaN   \n",
      "6503  ...                      No                       NaN  NaN   \n",
      "6504  ...                      No                       NaN  NaN   \n",
      "6507  ...                      No                       NaN  NaN   \n",
      "6517  ...                      No                       NaN  NaN   \n",
      "...   ...                     ...                       ...  ...   \n",
      "8820  ...                      No                       NaN  NaN   \n",
      "8821  ...                      No                       NaN  NaN   \n",
      "8822  ...                      No                       NaN  NaN   \n",
      "8823  ...                      No                       NaN  NaN   \n",
      "8824  ...                      No                       NaN  NaN   \n",
      "\n",
      "     Name of Facility Enrollment Mechanism Original Plan Drug Plan  \\\n",
      "6501              NaN                Paper         H3330       Yes   \n",
      "6503              NaN                Paper         H3387       Yes   \n",
      "6504              NaN                Paper         H2288       Yes   \n",
      "6507              NaN                Paper         H5970       Yes   \n",
      "6517              NaN           Telephonic         H4868       Yes   \n",
      "...               ...                  ...           ...       ...   \n",
      "8820              NaN                paper         S5552       Yes   \n",
      "8821              NaN                paper         H3387       Yes   \n",
      "8822              NaN                paper         S7694       Yes   \n",
      "8823              NaN                Paper         S5601       Yes   \n",
      "8824              NaN                Paper         S5552       Yes   \n",
      "\n",
      "     Command Id Card Proof Received Date Enrolled on DTRR  \\\n",
      "6501            2021-01-12 00:00:00                   NaT   \n",
      "6503            2021-01-12 00:00:00                   NaT   \n",
      "6504            2021-01-12 00:00:00                   NaT   \n",
      "6507                            NaN                   NaT   \n",
      "6517                            NaN                   NaT   \n",
      "...                             ...                   ...   \n",
      "8820                            NaN            2022-03-04   \n",
      "8821                            NaN            2022-03-04   \n",
      "8822                            NaN            2022-03-04   \n",
      "8823                            NaN            2022-03-04   \n",
      "8824                            NaN            2022-03-04   \n",
      "\n",
      "     Date of Enrollment/Cancellation/Rejection or Denial Letter Sent  \n",
      "6501                                                NaN               \n",
      "6503                                                NaN               \n",
      "6504                                                NaN               \n",
      "6507                                                NaN               \n",
      "6517                                                NaN               \n",
      "...                                                 ...               \n",
      "8820                                2022-03-04 00:00:00               \n",
      "8821                                2022-03-04 00:00:00               \n",
      "8822                                2022-03-04 00:00:00               \n",
      "8823                                2022-03-04 00:00:00               \n",
      "8824                                2022-03-04 00:00:00               \n",
      "\n",
      "[994 rows x 47 columns]\n"
     ]
    },
    {
     "name": "stderr",
     "output_type": "stream",
     "text": [
      "C:\\Users\\tflung\\Anaconda3\\lib\\site-packages\\openpyxl\\worksheet\\_reader.py:312: UserWarning: Data Validation extension is not supported and will be removed\n",
      "  warn(msg)\n"
     ]
    }
   ],
   "source": [
    "import pandas as pd\n",
    "import os\n",
    "\n",
    "\n",
    "\n",
    "url = \"S:\\ENROLLMENT\\ENROLLMENT-PUBLIC\\MEDICARE\\MAPD\\Copy of MAPD&SNP Roster_2021.xlsx\"\n",
    "\n",
    "\n",
    "df2=pd.read_excel(\n",
    "     os.path.join(url),\n",
    "     engine='openpyxl',\n",
    ")\n",
    "\n",
    "df2 = df2[(df2['Status'] == 'Enrolled') | (df2['Status'] == 'enrolled')]\n",
    "\n",
    "\n",
    "df2['Enrollment Date'] = pd.to_datetime(df2['Enrollment Date'], errors = 'coerce')\n",
    "\n",
    "df2 = df2[(df2['Enrollment Date'] >= '1/1/2021')]\n",
    "\n",
    "print (df2.columns)\n",
    "\n",
    "print (df2)"
   ]
  },
  {
   "cell_type": "code",
   "execution_count": 7,
   "metadata": {},
   "outputs": [],
   "source": [
    "with pd.ExcelWriter('zip2.xlsx',\n",
    "                  date_format='YYYY-MM-DD',\n",
    "                  datetime_format='YYYY-MM-DD') as writer:\n",
    "    df2.to_excel(writer, index=False)"
   ]
  },
  {
   "cell_type": "code",
   "execution_count": 8,
   "metadata": {},
   "outputs": [],
   "source": [
    "df2.to_csv(r'zip2.csv', index = False)"
   ]
  },
  {
   "cell_type": "code",
   "execution_count": null,
   "metadata": {},
   "outputs": [],
   "source": []
  },
  {
   "cell_type": "code",
   "execution_count": null,
   "metadata": {},
   "outputs": [],
   "source": []
  }
 ],
 "metadata": {
  "kernelspec": {
   "display_name": "Python 3 (ipykernel)",
   "language": "python",
   "name": "python3"
  },
  "language_info": {
   "codemirror_mode": {
    "name": "ipython",
    "version": 3
   },
   "file_extension": ".py",
   "mimetype": "text/x-python",
   "name": "python",
   "nbconvert_exporter": "python",
   "pygments_lexer": "ipython3",
   "version": "3.8.5"
  }
 },
 "nbformat": 4,
 "nbformat_minor": 4
}
