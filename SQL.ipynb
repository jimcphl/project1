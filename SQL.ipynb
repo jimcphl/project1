{
 "cells": [
  {
   "cell_type": "markdown",
   "id": "047df4bb",
   "metadata": {},
   "source": [
    "# SQL\n",
    "- https://python-course.eu/sql_python.php\n",
    "- https://pandas.pydata.org/docs/reference/api/pandas.DataFrame.to_sql.html"
   ]
  },
  {
   "cell_type": "code",
   "execution_count": 2,
   "id": "dec4be97",
   "metadata": {},
   "outputs": [],
   "source": [
    "import sqlite3\n",
    "connection = sqlite3.connect(\"company.db\")"
   ]
  },
  {
   "cell_type": "code",
   "execution_count": 9,
   "id": "adff52ed",
   "metadata": {},
   "outputs": [],
   "source": [
    "from sqlalchemy import create_engine\n",
    "engine = create_engine('sqlite://', echo=False)"
   ]
  },
  {
   "cell_type": "code",
   "execution_count": 10,
   "id": "f7f8c3c9",
   "metadata": {},
   "outputs": [],
   "source": [
    "import pandas as pd\n",
    "import numpy as np\n",
    "import os\n",
    "\n",
    "url = \"S:\\ENROLLMENT\\ENROLLMENT-PUBLIC\\MEDICARE\\MAPD\\MAPD&SNP Roster_2021.xlsx\"\n",
    "\n",
    "df1=pd.read_excel(\n",
    "     os.path.join(url),\n",
    "     engine='openpyxl',\n",
    ")\n",
    "\n",
    "df2 = df1.rename(columns={'Enrollment Date': 'EnrollDate'})\n",
    "df2 = df2.rename(columns={'App Date': 'AppDate'})\n",
    "df2 = df2.rename(columns={'Marketing Rep': 'Rep'})\n",
    "df2 = df2.rename(columns={'Member ID': 'MBID'})\n",
    "df2 = df2.rename(columns={'Disenrollment/End Date': 'EndDate'})\n",
    "df2 = df2.rename(columns={'Member Last Name': 'Last'})\n",
    "df2 = df2.rename(columns={'Member First Name': 'First'})\n",
    "df2 = df2.rename(columns={'Service Area': 'Area'})\n",
    "df2 = df2.rename(columns={'CT ID': 'CTID'})\n",
    "df2 = df2.rename(columns={'App Received Date': 'AppReceivedDate'})\n",
    "df2 = df2.rename(columns={'Date Submitted to CMS': 'DateSubmittedtoCMS'})\n",
    "df2 = df2.rename(columns={'Processed Days': 'ProcessedDas'})\n",
    "df2 = df2.rename(columns={'Comments/Notes': 'Comments'})\n",
    "df2 = df2.rename(columns={'Date of RFI Letter (ENR)': 'DateRFI'})\n",
    "df2 = df2.rename(columns={'Reason for Additional Information (ENR)': 'ReasonENR'})\n",
    "df2 = df2.rename(columns={'Information Due Date (ENR)': 'DueDateENR'})\n",
    "df2 = df2.rename(columns={'Date Information Received (ENR)': 'DateReceivedENR'})\n",
    "df2 = df2.rename(columns={'Election Period': 'ElectionPeriod'})\n",
    "df2 = df2.rename(columns={'SEP Reason': 'SEPReason'})\n",
    "df2 = df2.rename(columns={'Referral Source': 'ReferralSource'})\n",
    "df2 = df2.rename(columns={'Denial/Rejected Reason': 'DenialRejectedReason'})\n",
    "df2 = df2.rename(columns={'Disenrollment/Cancellation Reason': 'DisenrollmentCancellationReason'})\n",
    "df2 = df2.rename(columns={'Voluntary/Involuntary Disenrollment': 'VoluntaryInvoluntaryDisenrollment'})\n",
    "df2 = df2.rename(columns={'Signed Letter': 'SignedLetter'})\n",
    "df2 = df2.rename(columns={'Date of Signed Letter': 'DateofSignedLetter'})\n",
    "df2 = df2.rename(columns={'Date of Signed Letter Received': 'DateofSignedLetterReceived'})\n",
    "df2 = df2.rename(columns={'Disenrollment Request Status': 'DisenrollmentRequestStatus'})\n",
    "\n",
    "\n",
    "\n",
    "df2 = df2.rename(columns={'Date of RFI Letter (DISENR)': 'DateDISENR'})\n",
    "df2 = df2.rename(columns={'Reason for Additional Information (DISENR)': 'ReasonDISENR'})\n",
    "df2 = df2.rename(columns={'Information Due Date (DISENR)': 'DueDateDISENR'})\n",
    "df2 = df2.rename(columns={'Date Information Received (DISENR)': 'DateReceivedDISENR'})\n",
    "df2 = df2.rename(columns={'New Contract Number': 'ContractNumber'})\n",
    "df2 = df2.rename(columns={'PCP Auto-Assigned (Y/N)': 'PCPAssigned'})\n",
    "df2 = df2.rename(columns={'Number of Months Enrolled': 'MonthsEnrolled'})\n",
    "df2 = df2.rename(columns={'Name of Facility': 'Facility'})\n",
    "df2 = df2.rename(columns={'Enrollment Mechanism': 'EnrollmentMechanism'})\n",
    "df2 = df2.rename(columns={'Original Plan': 'OriginalPlan'})\n",
    "df2 = df2.rename(columns={'Drug Plan': 'DrugPlan'})\n",
    "df2 = df2.rename(columns={'Command Id Card Proof Received': 'IdCardReceived'})\n",
    "df2 = df2.rename(columns={'Date Enrolled on DTRR': 'DateEnrolledDTRR'})\n",
    "df2 = df2.rename(columns={'Date of Enrollment/Cancellation/Rejection or Denial Letter Sent': 'DateLetterSent'})\n",
    "df2 = df2.rename(columns={'Previous Medicare Plan': 'PreviousPlan'})\n"
   ]
  },
  {
   "cell_type": "code",
   "execution_count": 12,
   "id": "a5640378",
   "metadata": {},
   "outputs": [
    {
     "ename": "ValueError",
     "evalue": "Table 'users' already exists.",
     "output_type": "error",
     "traceback": [
      "\u001b[1;31m---------------------------------------------------------------------------\u001b[0m",
      "\u001b[1;31mValueError\u001b[0m                                Traceback (most recent call last)",
      "\u001b[1;32m~\\AppData\\Local\\Temp/ipykernel_13140/3156294874.py\u001b[0m in \u001b[0;36m<module>\u001b[1;34m\u001b[0m\n\u001b[1;32m----> 1\u001b[1;33m \u001b[0mdf2\u001b[0m\u001b[1;33m.\u001b[0m\u001b[0mto_sql\u001b[0m\u001b[1;33m(\u001b[0m\u001b[1;34m'users'\u001b[0m\u001b[1;33m,\u001b[0m \u001b[0mcon\u001b[0m\u001b[1;33m=\u001b[0m\u001b[0mengine\u001b[0m\u001b[1;33m)\u001b[0m\u001b[1;33m\u001b[0m\u001b[1;33m\u001b[0m\u001b[0m\n\u001b[0m\u001b[0;32m      2\u001b[0m \u001b[0mengine\u001b[0m\u001b[1;33m.\u001b[0m\u001b[0mexecute\u001b[0m\u001b[1;33m(\u001b[0m\u001b[1;34m\"SELECT Rep, count(Rep) FROM users \"\u001b[0m\u001b[1;33m)\u001b[0m\u001b[1;33m.\u001b[0m\u001b[0mfetchall\u001b[0m\u001b[1;33m(\u001b[0m\u001b[1;33m)\u001b[0m\u001b[1;33m\u001b[0m\u001b[1;33m\u001b[0m\u001b[0m\n",
      "\u001b[1;32m~\\Anaconda3\\lib\\site-packages\\pandas\\core\\generic.py\u001b[0m in \u001b[0;36mto_sql\u001b[1;34m(self, name, con, schema, if_exists, index, index_label, chunksize, dtype, method)\u001b[0m\n\u001b[0;32m   2870\u001b[0m         \u001b[1;32mfrom\u001b[0m \u001b[0mpandas\u001b[0m\u001b[1;33m.\u001b[0m\u001b[0mio\u001b[0m \u001b[1;32mimport\u001b[0m \u001b[0msql\u001b[0m\u001b[1;33m\u001b[0m\u001b[1;33m\u001b[0m\u001b[0m\n\u001b[0;32m   2871\u001b[0m \u001b[1;33m\u001b[0m\u001b[0m\n\u001b[1;32m-> 2872\u001b[1;33m         sql.to_sql(\n\u001b[0m\u001b[0;32m   2873\u001b[0m             \u001b[0mself\u001b[0m\u001b[1;33m,\u001b[0m\u001b[1;33m\u001b[0m\u001b[1;33m\u001b[0m\u001b[0m\n\u001b[0;32m   2874\u001b[0m             \u001b[0mname\u001b[0m\u001b[1;33m,\u001b[0m\u001b[1;33m\u001b[0m\u001b[1;33m\u001b[0m\u001b[0m\n",
      "\u001b[1;32m~\\Anaconda3\\lib\\site-packages\\pandas\\io\\sql.py\u001b[0m in \u001b[0;36mto_sql\u001b[1;34m(frame, name, con, schema, if_exists, index, index_label, chunksize, dtype, method, engine, **engine_kwargs)\u001b[0m\n\u001b[0;32m    715\u001b[0m         )\n\u001b[0;32m    716\u001b[0m \u001b[1;33m\u001b[0m\u001b[0m\n\u001b[1;32m--> 717\u001b[1;33m     pandas_sql.to_sql(\n\u001b[0m\u001b[0;32m    718\u001b[0m         \u001b[0mframe\u001b[0m\u001b[1;33m,\u001b[0m\u001b[1;33m\u001b[0m\u001b[1;33m\u001b[0m\u001b[0m\n\u001b[0;32m    719\u001b[0m         \u001b[0mname\u001b[0m\u001b[1;33m,\u001b[0m\u001b[1;33m\u001b[0m\u001b[1;33m\u001b[0m\u001b[0m\n",
      "\u001b[1;32m~\\Anaconda3\\lib\\site-packages\\pandas\\io\\sql.py\u001b[0m in \u001b[0;36mto_sql\u001b[1;34m(self, frame, name, if_exists, index, index_label, schema, chunksize, dtype, method, engine, **engine_kwargs)\u001b[0m\n\u001b[0;32m   1749\u001b[0m         \u001b[0msql_engine\u001b[0m \u001b[1;33m=\u001b[0m \u001b[0mget_engine\u001b[0m\u001b[1;33m(\u001b[0m\u001b[0mengine\u001b[0m\u001b[1;33m)\u001b[0m\u001b[1;33m\u001b[0m\u001b[1;33m\u001b[0m\u001b[0m\n\u001b[0;32m   1750\u001b[0m \u001b[1;33m\u001b[0m\u001b[0m\n\u001b[1;32m-> 1751\u001b[1;33m         table = self.prep_table(\n\u001b[0m\u001b[0;32m   1752\u001b[0m             \u001b[0mframe\u001b[0m\u001b[1;33m=\u001b[0m\u001b[0mframe\u001b[0m\u001b[1;33m,\u001b[0m\u001b[1;33m\u001b[0m\u001b[1;33m\u001b[0m\u001b[0m\n\u001b[0;32m   1753\u001b[0m             \u001b[0mname\u001b[0m\u001b[1;33m=\u001b[0m\u001b[0mname\u001b[0m\u001b[1;33m,\u001b[0m\u001b[1;33m\u001b[0m\u001b[1;33m\u001b[0m\u001b[0m\n",
      "\u001b[1;32m~\\Anaconda3\\lib\\site-packages\\pandas\\io\\sql.py\u001b[0m in \u001b[0;36mprep_table\u001b[1;34m(self, frame, name, if_exists, index, index_label, schema, dtype)\u001b[0m\n\u001b[0;32m   1648\u001b[0m             \u001b[0mdtype\u001b[0m\u001b[1;33m=\u001b[0m\u001b[0mdtype\u001b[0m\u001b[1;33m,\u001b[0m\u001b[1;33m\u001b[0m\u001b[1;33m\u001b[0m\u001b[0m\n\u001b[0;32m   1649\u001b[0m         )\n\u001b[1;32m-> 1650\u001b[1;33m         \u001b[0mtable\u001b[0m\u001b[1;33m.\u001b[0m\u001b[0mcreate\u001b[0m\u001b[1;33m(\u001b[0m\u001b[1;33m)\u001b[0m\u001b[1;33m\u001b[0m\u001b[1;33m\u001b[0m\u001b[0m\n\u001b[0m\u001b[0;32m   1651\u001b[0m         \u001b[1;32mreturn\u001b[0m \u001b[0mtable\u001b[0m\u001b[1;33m\u001b[0m\u001b[1;33m\u001b[0m\u001b[0m\n\u001b[0;32m   1652\u001b[0m \u001b[1;33m\u001b[0m\u001b[0m\n",
      "\u001b[1;32m~\\Anaconda3\\lib\\site-packages\\pandas\\io\\sql.py\u001b[0m in \u001b[0;36mcreate\u001b[1;34m(self)\u001b[0m\n\u001b[0;32m    856\u001b[0m         \u001b[1;32mif\u001b[0m \u001b[0mself\u001b[0m\u001b[1;33m.\u001b[0m\u001b[0mexists\u001b[0m\u001b[1;33m(\u001b[0m\u001b[1;33m)\u001b[0m\u001b[1;33m:\u001b[0m\u001b[1;33m\u001b[0m\u001b[1;33m\u001b[0m\u001b[0m\n\u001b[0;32m    857\u001b[0m             \u001b[1;32mif\u001b[0m \u001b[0mself\u001b[0m\u001b[1;33m.\u001b[0m\u001b[0mif_exists\u001b[0m \u001b[1;33m==\u001b[0m \u001b[1;34m\"fail\"\u001b[0m\u001b[1;33m:\u001b[0m\u001b[1;33m\u001b[0m\u001b[1;33m\u001b[0m\u001b[0m\n\u001b[1;32m--> 858\u001b[1;33m                 \u001b[1;32mraise\u001b[0m \u001b[0mValueError\u001b[0m\u001b[1;33m(\u001b[0m\u001b[1;34mf\"Table '{self.name}' already exists.\"\u001b[0m\u001b[1;33m)\u001b[0m\u001b[1;33m\u001b[0m\u001b[1;33m\u001b[0m\u001b[0m\n\u001b[0m\u001b[0;32m    859\u001b[0m             \u001b[1;32melif\u001b[0m \u001b[0mself\u001b[0m\u001b[1;33m.\u001b[0m\u001b[0mif_exists\u001b[0m \u001b[1;33m==\u001b[0m \u001b[1;34m\"replace\"\u001b[0m\u001b[1;33m:\u001b[0m\u001b[1;33m\u001b[0m\u001b[1;33m\u001b[0m\u001b[0m\n\u001b[0;32m    860\u001b[0m                 \u001b[0mself\u001b[0m\u001b[1;33m.\u001b[0m\u001b[0mpd_sql\u001b[0m\u001b[1;33m.\u001b[0m\u001b[0mdrop_table\u001b[0m\u001b[1;33m(\u001b[0m\u001b[0mself\u001b[0m\u001b[1;33m.\u001b[0m\u001b[0mname\u001b[0m\u001b[1;33m,\u001b[0m \u001b[0mself\u001b[0m\u001b[1;33m.\u001b[0m\u001b[0mschema\u001b[0m\u001b[1;33m)\u001b[0m\u001b[1;33m\u001b[0m\u001b[1;33m\u001b[0m\u001b[0m\n",
      "\u001b[1;31mValueError\u001b[0m: Table 'users' already exists."
     ]
    }
   ],
   "source": [
    "df2.to_sql('users', con=engine)\n",
    "engine.execute(\"SELECT Rep, count(Rep) FROM users \").fetchall()"
   ]
  },
  {
   "cell_type": "code",
   "execution_count": null,
   "id": "e9b44720",
   "metadata": {},
   "outputs": [],
   "source": []
  }
 ],
 "metadata": {
  "kernelspec": {
   "display_name": "Python 3 (ipykernel)",
   "language": "python",
   "name": "python3"
  },
  "language_info": {
   "codemirror_mode": {
    "name": "ipython",
    "version": 3
   },
   "file_extension": ".py",
   "mimetype": "text/x-python",
   "name": "python",
   "nbconvert_exporter": "python",
   "pygments_lexer": "ipython3",
   "version": "3.8.5"
  }
 },
 "nbformat": 4,
 "nbformat_minor": 5
}
